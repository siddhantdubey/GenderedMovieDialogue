{
  "nbformat": 4,
  "nbformat_minor": 0,
  "metadata": {
    "colab": {
      "name": "GenderClassifierLSTM.ipynb",
      "provenance": [],
      "collapsed_sections": [],
      "authorship_tag": "ABX9TyM8gWc8fXxgrLRg+wFIfe4k",
      "include_colab_link": true
    },
    "kernelspec": {
      "name": "python3",
      "display_name": "Python 3"
    },
    "accelerator": "GPU"
  },
  "cells": [
    {
      "cell_type": "markdown",
      "metadata": {
        "id": "view-in-github",
        "colab_type": "text"
      },
      "source": [
        "<a href=\"https://colab.research.google.com/github/siddhantdubey/GenderedMovieDialogue/blob/master/GenderClassifierLSTM.ipynb\" target=\"_parent\"><img src=\"https://colab.research.google.com/assets/colab-badge.svg\" alt=\"Open In Colab\"/></a>"
      ]
    },
    {
      "cell_type": "code",
      "metadata": {
        "id": "hOXetHkb380D",
        "colab_type": "code",
        "colab": {
          "base_uri": "https://localhost:8080/",
          "height": 122
        },
        "outputId": "9d132020-78fb-4cdb-c450-ada180f7aeb8"
      },
      "source": [
        "from google.colab import drive\n",
        "drive.mount('/content/gdrive', force_remount=True)\n",
        "root_dir = \"/content/gdrive/My Drive/Folders/Work/Research/CornellMovie/data/\"\n"
      ],
      "execution_count": 1,
      "outputs": [
        {
          "output_type": "stream",
          "text": [
            "Go to this URL in a browser: https://accounts.google.com/o/oauth2/auth?client_id=947318989803-6bn6qk8qdgf4n4g3pfee6491hc0brc4i.apps.googleusercontent.com&redirect_uri=urn%3aietf%3awg%3aoauth%3a2.0%3aoob&response_type=code&scope=email%20https%3a%2f%2fwww.googleapis.com%2fauth%2fdocs.test%20https%3a%2f%2fwww.googleapis.com%2fauth%2fdrive%20https%3a%2f%2fwww.googleapis.com%2fauth%2fdrive.photos.readonly%20https%3a%2f%2fwww.googleapis.com%2fauth%2fpeopleapi.readonly\n",
            "\n",
            "Enter your authorization code:\n",
            "··········\n",
            "Mounted at /content/gdrive\n"
          ],
          "name": "stdout"
        }
      ]
    },
    {
      "cell_type": "code",
      "metadata": {
        "id": "8xCBEa8g2Gk4",
        "colab_type": "code",
        "colab": {}
      },
      "source": [
        "import torch\n",
        "import torch.nn as nn \n",
        "import torch.nn.functional as F\n",
        "import torchtext \n",
        "import numpy as np\n",
        "import pandas as pd\n",
        "from torchtext import data\n",
        "from torch.utils.data import Dataset, DataLoader\n",
        "from torch.nn.utils.rnn import pack_padded_sequence, pad_packed_sequence \n",
        "from sklearn.metrics import mean_squared_error\n",
        "from sklearn.feature_extraction.text import TfidfVectorizer\n",
        "from sklearn.feature_extraction.text import TfidfTransformer\n",
        "from sklearn.feature_extraction.text import CountVectorizer"
      ],
      "execution_count": 2,
      "outputs": []
    },
    {
      "cell_type": "code",
      "metadata": {
        "id": "e9VL_aoh3HaL",
        "colab_type": "code",
        "colab": {}
      },
      "source": [
        "X_train = []\n",
        "Y_train = []\n",
        "X_test = []\n",
        "Y_test = []"
      ],
      "execution_count": 3,
      "outputs": []
    },
    {
      "cell_type": "code",
      "metadata": {
        "id": "WkwGy7C23OXY",
        "colab_type": "code",
        "colab": {}
      },
      "source": [
        "with open(root_dir + 'training_set.txt', encoding=\"charmap\") as training:\n",
        "  for line in training:\n",
        "    line = line.strip()\n",
        "    line_num, chr_id, movie_id, chr_name, chr_gender, line_text, credit = line.split(\"+++$+++\")\n",
        "    if(chr_gender.strip().lower() == \"m\"):\n",
        "      Y_train.append(0)\n",
        "      X_train.append(line_text.strip())\n",
        "    elif(chr_gender.strip().lower() == \"f\"):\n",
        "      Y_train.append(1)\n",
        "      X_train.append(line_text.strip())\n",
        "\n",
        "with open(root_dir + 'test_set.txt', encoding=\"charmap\") as test:\n",
        "  for line in test:\n",
        "    line = line.strip()\n",
        "    line_num, chr_id, movie_id, chr_name, chr_gender, line_text, credit = line.split(\"+++$+++\")\n",
        "    if(chr_gender.strip().lower() == \"m\"):\n",
        "      Y_test.append(0)\n",
        "      X_test.append(line_text.strip())\n",
        "\n",
        "    elif(chr_gender.strip().lower() == \"f\"):\n",
        "      Y_test.append(1)\n",
        "      X_test.append(line_text.strip())\n"
      ],
      "execution_count": 4,
      "outputs": []
    },
    {
      "cell_type": "code",
      "metadata": {
        "id": "tBxJ3qOa9M3t",
        "colab_type": "code",
        "colab": {}
      },
      "source": [
        "count_vect = CountVectorizer()\n",
        "\n",
        "X_train_counts = count_vect.fit_transform(X_train)\n",
        "tfidf_transformer = TfidfTransformer()\n",
        "X_train_tfidf = tfidf_transformer.fit_transform(X_train_counts)"
      ],
      "execution_count": 5,
      "outputs": []
    },
    {
      "cell_type": "code",
      "metadata": {
        "id": "x-DPBPPu-DFl",
        "colab_type": "code",
        "colab": {}
      },
      "source": [
        "X_test_counts = count_vect.fit_transform(X_test)\n",
        "X_test_tfidf = tfidf_transformer.fit_transform(X_test_counts)"
      ],
      "execution_count": 6,
      "outputs": []
    },
    {
      "cell_type": "code",
      "metadata": {
        "id": "xNX_o-vg5mEJ",
        "colab_type": "code",
        "colab": {}
      },
      "source": [
        "device = torch.device(\"cuda\")"
      ],
      "execution_count": 7,
      "outputs": []
    },
    {
      "cell_type": "code",
      "metadata": {
        "id": "Z0svoWp5AXx_",
        "colab_type": "code",
        "colab": {}
      },
      "source": [
        "df = pd.DataFrame()"
      ],
      "execution_count": 8,
      "outputs": []
    },
    {
      "cell_type": "code",
      "metadata": {
        "id": "ANKW2QPcNBt2",
        "colab_type": "code",
        "colab": {}
      },
      "source": [
        "indices = []\n",
        "for i in range(len(X_train)):\n",
        "  if(len(X_train[i]) > 0):\n",
        "    answer = True \n",
        "  else:\n",
        "    indices.append(i)\n",
        "\n",
        "for index in sorted(indices, reverse=True):\n",
        "    del X_train[index]\n",
        "    del Y_train[index]\n"
      ],
      "execution_count": 9,
      "outputs": []
    },
    {
      "cell_type": "code",
      "metadata": {
        "id": "Cx5WVYp_wEkN",
        "colab_type": "code",
        "colab": {}
      },
      "source": [
        ""
      ],
      "execution_count": null,
      "outputs": []
    },
    {
      "cell_type": "code",
      "metadata": {
        "id": "MvJVvw76wTNu",
        "colab_type": "code",
        "colab": {}
      },
      "source": [
        ""
      ],
      "execution_count": null,
      "outputs": []
    },
    {
      "cell_type": "code",
      "metadata": {
        "id": "UzWC0-w5wiEa",
        "colab_type": "code",
        "colab": {}
      },
      "source": [
        ""
      ],
      "execution_count": null,
      "outputs": []
    },
    {
      "cell_type": "code",
      "metadata": {
        "id": "m8hg4siCwwuE",
        "colab_type": "code",
        "colab": {}
      },
      "source": [
        ""
      ],
      "execution_count": null,
      "outputs": []
    },
    {
      "cell_type": "code",
      "metadata": {
        "id": "FWWpsOqJw_Ka",
        "colab_type": "code",
        "colab": {}
      },
      "source": [
        ""
      ],
      "execution_count": null,
      "outputs": []
    },
    {
      "cell_type": "code",
      "metadata": {
        "id": "Vvh56ULGOzoq",
        "colab_type": "code",
        "colab": {}
      },
      "source": [
        "y_indexes = []\n",
        "for i in range(len(X_test)):\n",
        "  if(len(X_test[i]) > 0):\n",
        "    answer = True\n",
        "  else:\n",
        "    y_indexes.append(i)\n",
        "\n",
        "for index in sorted(y_indexes, reverse=True):\n",
        "  del X_test[index]\n",
        "  del Y_test[index]"
      ],
      "execution_count": 10,
      "outputs": []
    },
    {
      "cell_type": "code",
      "metadata": {
        "id": "DMqz7C4fAraN",
        "colab_type": "code",
        "colab": {}
      },
      "source": [
        "X = X_train + X_test\n",
        "Y = Y_train + Y_test\n",
        "df['text'] = X_train \n",
        "df['target'] = Y_train "
      ],
      "execution_count": 12,
      "outputs": []
    },
    {
      "cell_type": "code",
      "metadata": {
        "id": "pHHwA50rsLiu",
        "colab_type": "code",
        "colab": {
          "base_uri": "https://localhost:8080/",
          "height": 34
        },
        "outputId": "56fc5b6d-1f49-4984-ca39-3f3c14709536"
      },
      "source": [
        "Y.count(1)"
      ],
      "execution_count": 66,
      "outputs": [
        {
          "output_type": "execute_result",
          "data": {
            "text/plain": [
              "65222"
            ]
          },
          "metadata": {
            "tags": []
          },
          "execution_count": 66
        }
      ]
    },
    {
      "cell_type": "code",
      "metadata": {
        "id": "mUZlhbqngsh9",
        "colab_type": "code",
        "colab": {}
      },
      "source": [
        "def get_top_data(top_n = 30000):\n",
        "  top_data_df_male = df[df['target'] == 0].head(top_n)\n",
        "  top_data_df_female = df[df['target'] == 1].head(top_n)\n",
        "  data_df_small = pd.concat([top_data_df_male, top_data_df_female])\n",
        "  return data_df_small"
      ],
      "execution_count": 15,
      "outputs": []
    },
    {
      "cell_type": "code",
      "metadata": {
        "id": "3FIRn6eAg2qO",
        "colab_type": "code",
        "colab": {}
      },
      "source": [
        "top_data_df_small = get_top_data(top_n=65222)"
      ],
      "execution_count": 67,
      "outputs": []
    },
    {
      "cell_type": "code",
      "metadata": {
        "id": "E6i3Hf9As3fO",
        "colab_type": "code",
        "colab": {}
      },
      "source": [
        ""
      ],
      "execution_count": null,
      "outputs": []
    },
    {
      "cell_type": "code",
      "metadata": {
        "id": "cjdOMnsVYln_",
        "colab_type": "code",
        "colab": {
          "base_uri": "https://localhost:8080/",
          "height": 289
        },
        "outputId": "8a0cc377-4522-43e9-ff3d-9eb494dfea9c"
      },
      "source": [
        "from sklearn.model_selection import train_test_split\n",
        "def split_train_test(top_data_df_small, test_size=0.2, shuffle_state=True):\n",
        "    X_train, X_test, Y_train, Y_test = train_test_split(top_data_df_small[['text']], \n",
        "                                                        top_data_df_small['target'], \n",
        "                                                        shuffle=shuffle_state,\n",
        "                                                        test_size=test_size, \n",
        "                                                        random_state=15)\n",
        "    print(\"Value counts for Train genders\")\n",
        "    print(Y_train.value_counts())\n",
        "    print(\"Value counts for Test genders\")\n",
        "    print(Y_test.value_counts())\n",
        "    print(type(X_train))\n",
        "    print(type(Y_train))\n",
        "    X_train = X_train.reset_index()\n",
        "    X_test = X_test.reset_index()\n",
        "    Y_train = Y_train.to_frame()\n",
        "    Y_train = Y_train.reset_index()\n",
        "    Y_test = Y_test.to_frame()\n",
        "    Y_test = Y_test.reset_index()\n",
        "    print(X_train.head())\n",
        "    return X_train, X_test, Y_train, Y_test\n",
        "\n",
        "# Call the train_test_split\n",
        "X_train, X_test, Y_train, Y_test = split_train_test(top_data_df_small)"
      ],
      "execution_count": 68,
      "outputs": [
        {
          "output_type": "stream",
          "text": [
            "Value counts for Train genders\n",
            "0    52115\n",
            "1    46123\n",
            "Name: target, dtype: int64\n",
            "Value counts for Test genders\n",
            "0    13107\n",
            "1    11453\n",
            "Name: target, dtype: int64\n",
            "<class 'pandas.core.frame.DataFrame'>\n",
            "<class 'pandas.core.series.Series'>\n",
            "    index                      text\n",
            "0   48254                Thank you.\n",
            "1  178412               That light.\n",
            "2   87168              And why not?\n",
            "3   12166  I need your help, Joyce.\n",
            "4   42287          Yes, I knowbut\n"
          ],
          "name": "stdout"
        }
      ]
    },
    {
      "cell_type": "code",
      "metadata": {
        "id": "Om1DxHwrBAkd",
        "colab_type": "code",
        "colab": {}
      },
      "source": [
        "test_df = pd.DataFrame()"
      ],
      "execution_count": 69,
      "outputs": []
    },
    {
      "cell_type": "code",
      "metadata": {
        "id": "Oh5JqNqYhpRO",
        "colab_type": "code",
        "colab": {
          "base_uri": "https://localhost:8080/",
          "height": 255
        },
        "outputId": "484329dd-5485-4138-b9d5-0e8cb7aa04fc"
      },
      "source": [
        "print(Y_train)"
      ],
      "execution_count": 70,
      "outputs": [
        {
          "output_type": "stream",
          "text": [
            "        index  target\n",
            "0       48254       1\n",
            "1      178412       1\n",
            "2       87168       0\n",
            "3       12166       0\n",
            "4       42287       1\n",
            "...       ...     ...\n",
            "98233   68030       0\n",
            "98234   12551       1\n",
            "98235   10470       0\n",
            "98236   73927       0\n",
            "98237    9977       0\n",
            "\n",
            "[98238 rows x 2 columns]\n"
          ],
          "name": "stdout"
        }
      ]
    },
    {
      "cell_type": "code",
      "metadata": {
        "id": "K1F7isK2v16u",
        "colab_type": "code",
        "colab": {}
      },
      "source": [
        ""
      ],
      "execution_count": null,
      "outputs": []
    },
    {
      "cell_type": "code",
      "metadata": {
        "id": "A6qnr7RpBjpX",
        "colab_type": "code",
        "colab": {}
      },
      "source": [
        "test_df['text'] = X_test['text']\n",
        "test_df['target'] = Y_test['target']"
      ],
      "execution_count": 71,
      "outputs": []
    },
    {
      "cell_type": "code",
      "metadata": {
        "id": "2c_T7IyFh62o",
        "colab_type": "code",
        "colab": {
          "base_uri": "https://localhost:8080/",
          "height": 359
        },
        "outputId": "b2aee30f-d4e6-4a5d-d6e0-186c472a3491"
      },
      "source": [
        "test_df.head(10)"
      ],
      "execution_count": 72,
      "outputs": [
        {
          "output_type": "execute_result",
          "data": {
            "text/html": [
              "<div>\n",
              "<style scoped>\n",
              "    .dataframe tbody tr th:only-of-type {\n",
              "        vertical-align: middle;\n",
              "    }\n",
              "\n",
              "    .dataframe tbody tr th {\n",
              "        vertical-align: top;\n",
              "    }\n",
              "\n",
              "    .dataframe thead th {\n",
              "        text-align: right;\n",
              "    }\n",
              "</style>\n",
              "<table border=\"1\" class=\"dataframe\">\n",
              "  <thead>\n",
              "    <tr style=\"text-align: right;\">\n",
              "      <th></th>\n",
              "      <th>text</th>\n",
              "      <th>target</th>\n",
              "    </tr>\n",
              "  </thead>\n",
              "  <tbody>\n",
              "    <tr>\n",
              "      <th>0</th>\n",
              "      <td>Down there. Did you ever loose track of him?</td>\n",
              "      <td>0</td>\n",
              "    </tr>\n",
              "    <tr>\n",
              "      <th>1</th>\n",
              "      <td>Don't go looking for it, Dil.</td>\n",
              "      <td>1</td>\n",
              "    </tr>\n",
              "    <tr>\n",
              "      <th>2</th>\n",
              "      <td>And General Savitzky.</td>\n",
              "      <td>0</td>\n",
              "    </tr>\n",
              "    <tr>\n",
              "      <th>3</th>\n",
              "      <td>You're such a kidder. I have a big surprise fo...</td>\n",
              "      <td>1</td>\n",
              "    </tr>\n",
              "    <tr>\n",
              "      <th>4</th>\n",
              "      <td>Which of you did it? Which of you made me the ...</td>\n",
              "      <td>1</td>\n",
              "    </tr>\n",
              "    <tr>\n",
              "      <th>5</th>\n",
              "      <td>I didn't know you were into that sort of thing.</td>\n",
              "      <td>1</td>\n",
              "    </tr>\n",
              "    <tr>\n",
              "      <th>6</th>\n",
              "      <td>Oooh. Sassy. What do you care who feels me up,...</td>\n",
              "      <td>1</td>\n",
              "    </tr>\n",
              "    <tr>\n",
              "      <th>7</th>\n",
              "      <td>Can I?</td>\n",
              "      <td>0</td>\n",
              "    </tr>\n",
              "    <tr>\n",
              "      <th>8</th>\n",
              "      <td>No.</td>\n",
              "      <td>0</td>\n",
              "    </tr>\n",
              "    <tr>\n",
              "      <th>9</th>\n",
              "      <td>I'm all ears, good buddy.</td>\n",
              "      <td>0</td>\n",
              "    </tr>\n",
              "  </tbody>\n",
              "</table>\n",
              "</div>"
            ],
            "text/plain": [
              "                                                text  target\n",
              "0       Down there. Did you ever loose track of him?       0\n",
              "1                      Don't go looking for it, Dil.       1\n",
              "2                              And General Savitzky.       0\n",
              "3  You're such a kidder. I have a big surprise fo...       1\n",
              "4  Which of you did it? Which of you made me the ...       1\n",
              "5    I didn't know you were into that sort of thing.       1\n",
              "6  Oooh. Sassy. What do you care who feels me up,...       1\n",
              "7                                             Can I?       0\n",
              "8                                                No.       0\n",
              "9                          I'm all ears, good buddy.       0"
            ]
          },
          "metadata": {
            "tags": []
          },
          "execution_count": 72
        }
      ]
    },
    {
      "cell_type": "code",
      "metadata": {
        "id": "9VhXr-hzhbWo",
        "colab_type": "code",
        "colab": {}
      },
      "source": [
        "train_df = pd.DataFrame()\n",
        "train_df['text'] = X_train['text']\n",
        "train_df['target'] = Y_train['target']"
      ],
      "execution_count": 73,
      "outputs": []
    },
    {
      "cell_type": "code",
      "metadata": {
        "id": "83lncgHODKrr",
        "colab_type": "code",
        "colab": {
          "base_uri": "https://localhost:8080/",
          "height": 204
        },
        "outputId": "dbf2c3a7-a87d-4c35-c0b3-cbcc6629f46d"
      },
      "source": [
        "train_df.head()"
      ],
      "execution_count": 74,
      "outputs": [
        {
          "output_type": "execute_result",
          "data": {
            "text/html": [
              "<div>\n",
              "<style scoped>\n",
              "    .dataframe tbody tr th:only-of-type {\n",
              "        vertical-align: middle;\n",
              "    }\n",
              "\n",
              "    .dataframe tbody tr th {\n",
              "        vertical-align: top;\n",
              "    }\n",
              "\n",
              "    .dataframe thead th {\n",
              "        text-align: right;\n",
              "    }\n",
              "</style>\n",
              "<table border=\"1\" class=\"dataframe\">\n",
              "  <thead>\n",
              "    <tr style=\"text-align: right;\">\n",
              "      <th></th>\n",
              "      <th>text</th>\n",
              "      <th>target</th>\n",
              "    </tr>\n",
              "  </thead>\n",
              "  <tbody>\n",
              "    <tr>\n",
              "      <th>0</th>\n",
              "      <td>Thank you.</td>\n",
              "      <td>1</td>\n",
              "    </tr>\n",
              "    <tr>\n",
              "      <th>1</th>\n",
              "      <td>That light.</td>\n",
              "      <td>1</td>\n",
              "    </tr>\n",
              "    <tr>\n",
              "      <th>2</th>\n",
              "      <td>And why not?</td>\n",
              "      <td>0</td>\n",
              "    </tr>\n",
              "    <tr>\n",
              "      <th>3</th>\n",
              "      <td>I need your help, Joyce.</td>\n",
              "      <td>0</td>\n",
              "    </tr>\n",
              "    <tr>\n",
              "      <th>4</th>\n",
              "      <td>Yes, I knowbut</td>\n",
              "      <td>1</td>\n",
              "    </tr>\n",
              "  </tbody>\n",
              "</table>\n",
              "</div>"
            ],
            "text/plain": [
              "                       text  target\n",
              "0                Thank you.       1\n",
              "1               That light.       1\n",
              "2              And why not?       0\n",
              "3  I need your help, Joyce.       0\n",
              "4          Yes, I knowbut       1"
            ]
          },
          "metadata": {
            "tags": []
          },
          "execution_count": 74
        }
      ]
    },
    {
      "cell_type": "code",
      "metadata": {
        "id": "NyHIaaLBBvjl",
        "colab_type": "code",
        "colab": {}
      },
      "source": [
        "SEED = 42\n",
        "\n",
        "torch.manual_seed(SEED)\n",
        "torch.backends.cudnn.deterministic = True\n",
        "torch.backends.cudnn.benchmark = False"
      ],
      "execution_count": 75,
      "outputs": []
    },
    {
      "cell_type": "code",
      "metadata": {
        "id": "p3410JYZBz-W",
        "colab_type": "code",
        "colab": {}
      },
      "source": [
        "TEXT = data.Field(tokenize = 'spacy', include_lengths = True)\n",
        "LABEL = data.LabelField(dtype = torch.float)"
      ],
      "execution_count": 76,
      "outputs": []
    },
    {
      "cell_type": "code",
      "metadata": {
        "id": "Sb9qgJqZCD6G",
        "colab_type": "code",
        "colab": {}
      },
      "source": [
        "class DataFrameDataset(data.Dataset):\n",
        "\n",
        "    def __init__(self, df, fields, is_test=False, **kwargs):\n",
        "        examples = []\n",
        "        for i, row in df.iterrows():\n",
        "            label = row.target if not is_test else None\n",
        "            text = row.text\n",
        "            examples.append(data.Example.fromlist([text, label], fields))\n",
        "\n",
        "        super().__init__(examples, fields, **kwargs)\n",
        "\n",
        "    @staticmethod\n",
        "    def sort_key(ex):\n",
        "        return len(ex.text)\n",
        "\n",
        "    @classmethod\n",
        "    def splits(cls, fields, train_df, val_df=None, test_df=None, **kwargs):\n",
        "        train_data, val_data, test_data = (None, None, None)\n",
        "        data_field = fields\n",
        "\n",
        "        if train_df is not None:\n",
        "            train_data = cls(train_df.copy(), data_field, **kwargs)\n",
        "        if val_df is not None:\n",
        "            val_data = cls(val_df.copy(), data_field, **kwargs)\n",
        "        if test_df is not None:\n",
        "            test_data = cls(test_df.copy(), data_field, True, **kwargs)\n",
        "\n",
        "        return tuple(d for d in (train_data, val_data, test_data) if d is not None)"
      ],
      "execution_count": 77,
      "outputs": []
    },
    {
      "cell_type": "code",
      "metadata": {
        "id": "tjxl97h0CHp1",
        "colab_type": "code",
        "colab": {}
      },
      "source": [
        "fields = [('text',TEXT), ('label',LABEL)]\n",
        "train_ds, test_ds = DataFrameDataset.splits(fields, train_df=train_df, val_df=test_df)\n"
      ],
      "execution_count": 78,
      "outputs": []
    },
    {
      "cell_type": "code",
      "metadata": {
        "id": "24qfffNWCQMV",
        "colab_type": "code",
        "colab": {}
      },
      "source": [
        "MAX_VOCAB_SIZE = len(X_train)\n",
        "\n",
        "TEXT.build_vocab(train_ds, \n",
        "                 max_size = MAX_VOCAB_SIZE, \n",
        "                 vectors = 'glove.6B.200d',\n",
        "                 unk_init = torch.Tensor.zero_)"
      ],
      "execution_count": 79,
      "outputs": []
    },
    {
      "cell_type": "code",
      "metadata": {
        "id": "4UztZBl8Dh2s",
        "colab_type": "code",
        "colab": {}
      },
      "source": [
        "LABEL.build_vocab(train_ds)"
      ],
      "execution_count": 80,
      "outputs": []
    },
    {
      "cell_type": "code",
      "metadata": {
        "id": "lrG_oTcyDiSf",
        "colab_type": "code",
        "colab": {}
      },
      "source": [
        "BATCH_SIZE = 256\n",
        "\n",
        "device = torch.device('cuda' if torch.cuda.is_available() else 'cpu')\n",
        "\n",
        "train_iterator, valid_iterator = data.BucketIterator.splits(\n",
        "    (train_ds, test_ds), \n",
        "    batch_size = BATCH_SIZE,\n",
        "    sort_within_batch = True,\n",
        "    device = device)"
      ],
      "execution_count": 81,
      "outputs": []
    },
    {
      "cell_type": "code",
      "metadata": {
        "id": "Gg7jD3OCDjzO",
        "colab_type": "code",
        "colab": {}
      },
      "source": [
        "# Hyperparameters\n",
        "num_epochs = 25\n",
        "learning_rate = 0.001\n",
        "\n",
        "INPUT_DIM = len(TEXT.vocab)\n",
        "EMBEDDING_DIM = 200\n",
        "HIDDEN_DIM = 256\n",
        "OUTPUT_DIM = 1\n",
        "N_LAYERS = 4\n",
        "BIDIRECTIONAL = True\n",
        "DROPOUT = 0.5\n",
        "PAD_IDX = TEXT.vocab.stoi[TEXT.pad_token] # padding"
      ],
      "execution_count": 82,
      "outputs": []
    },
    {
      "cell_type": "code",
      "metadata": {
        "id": "r_HiYtQpDlx1",
        "colab_type": "code",
        "colab": {}
      },
      "source": [
        "class LSTM_net(nn.Module):\n",
        "    def __init__(self, vocab_size, embedding_dim, hidden_dim, output_dim, n_layers, \n",
        "                 bidirectional, dropout, pad_idx):\n",
        "        \n",
        "        super().__init__()\n",
        "        \n",
        "        self.embedding = nn.Embedding(vocab_size, embedding_dim, padding_idx = pad_idx)\n",
        "        \n",
        "        self.rnn = nn.LSTM(embedding_dim, \n",
        "                           hidden_dim, \n",
        "                           num_layers=n_layers, \n",
        "                           bidirectional=bidirectional, \n",
        "                           dropout=dropout)\n",
        "        \n",
        "        self.fc1 = nn.Linear(hidden_dim * 2, hidden_dim)\n",
        "        \n",
        "        self.fc2 = nn.Linear(hidden_dim, 1)\n",
        "        \n",
        "        self.dropout = nn.Dropout(dropout)\n",
        "        \n",
        "    def forward(self, text, text_lengths):\n",
        "        \n",
        "        # text = [sent len, batch size]\n",
        "        \n",
        "        embedded = self.embedding(text)\n",
        "        \n",
        "        # embedded = [sent len, batch size, emb dim]\n",
        "        \n",
        "        #pack sequence\n",
        "        packed_embedded = nn.utils.rnn.pack_padded_sequence(embedded, text_lengths)\n",
        "        \n",
        "        packed_output, (hidden, cell) = self.rnn(packed_embedded)\n",
        "        \n",
        "        #unpack sequence\n",
        "        # output, output_lengths = nn.utils.rnn.pad_packed_sequence(packed_output)\n",
        "\n",
        "        # output = [sent len, batch size, hid dim * num directions]\n",
        "        # output over padding tokens are zero tensors\n",
        "        \n",
        "        # hidden = [num layers * num directions, batch size, hid dim]\n",
        "        # cell = [num layers * num directions, batch size, hid dim]\n",
        "        \n",
        "        # concat the final forward (hidden[-2,:,:]) and backward (hidden[-1,:,:]) hidden layers\n",
        "        # and apply dropout\n",
        "        \n",
        "        hidden = self.dropout(torch.cat((hidden[-2,:,:], hidden[-1,:,:]), dim = 1))\n",
        "        output = self.fc1(hidden)\n",
        "        output = self.dropout(self.fc2(output))\n",
        "                \n",
        "        #hidden = [batch size, hid dim * num directions]\n",
        "            \n",
        "        return output"
      ],
      "execution_count": 83,
      "outputs": []
    },
    {
      "cell_type": "code",
      "metadata": {
        "id": "czSI_FLXDqHd",
        "colab_type": "code",
        "colab": {}
      },
      "source": [
        "#creating instance of our LSTM_net class\n",
        "\n",
        "model = LSTM_net(INPUT_DIM, \n",
        "            EMBEDDING_DIM, \n",
        "            HIDDEN_DIM, \n",
        "            OUTPUT_DIM, \n",
        "            N_LAYERS, \n",
        "            BIDIRECTIONAL, \n",
        "            DROPOUT, \n",
        "            PAD_IDX)"
      ],
      "execution_count": 84,
      "outputs": []
    },
    {
      "cell_type": "code",
      "metadata": {
        "id": "ZVqWGFzbDsAO",
        "colab_type": "code",
        "colab": {
          "base_uri": "https://localhost:8080/",
          "height": 153
        },
        "outputId": "be4d82d7-34e4-4a21-8810-96480fdf246c"
      },
      "source": [
        "pretrained_embeddings = TEXT.vocab.vectors\n",
        "\n",
        "print(pretrained_embeddings.shape)\n",
        "model.embedding.weight.data.copy_(pretrained_embeddings)"
      ],
      "execution_count": 85,
      "outputs": [
        {
          "output_type": "stream",
          "text": [
            "torch.Size([36675, 200])\n"
          ],
          "name": "stdout"
        },
        {
          "output_type": "execute_result",
          "data": {
            "text/plain": [
              "tensor([[ 0.0000,  0.0000,  0.0000,  ...,  0.0000,  0.0000,  0.0000],\n",
              "        [ 0.0000,  0.0000,  0.0000,  ...,  0.0000,  0.0000,  0.0000],\n",
              "        [ 0.1229,  0.5804, -0.0696,  ..., -0.0392, -0.1624, -0.0967],\n",
              "        ...,\n",
              "        [ 0.0000,  0.0000,  0.0000,  ...,  0.0000,  0.0000,  0.0000],\n",
              "        [ 0.1321,  0.1112,  0.4337,  ...,  0.1854,  0.3073,  0.4766],\n",
              "        [ 0.0000,  0.0000,  0.0000,  ...,  0.0000,  0.0000,  0.0000]])"
            ]
          },
          "metadata": {
            "tags": []
          },
          "execution_count": 85
        }
      ]
    },
    {
      "cell_type": "code",
      "metadata": {
        "id": "C3IRM8sFDto1",
        "colab_type": "code",
        "colab": {
          "base_uri": "https://localhost:8080/",
          "height": 136
        },
        "outputId": "8822bc3e-0aa5-4fa1-92d3-9ebd6cff11b5"
      },
      "source": [
        "model.embedding.weight.data[PAD_IDX] = torch.zeros(EMBEDDING_DIM)\n",
        "\n",
        "print(model.embedding.weight.data)"
      ],
      "execution_count": 86,
      "outputs": [
        {
          "output_type": "stream",
          "text": [
            "tensor([[ 0.0000,  0.0000,  0.0000,  ...,  0.0000,  0.0000,  0.0000],\n",
            "        [ 0.0000,  0.0000,  0.0000,  ...,  0.0000,  0.0000,  0.0000],\n",
            "        [ 0.1229,  0.5804, -0.0696,  ..., -0.0392, -0.1624, -0.0967],\n",
            "        ...,\n",
            "        [ 0.0000,  0.0000,  0.0000,  ...,  0.0000,  0.0000,  0.0000],\n",
            "        [ 0.1321,  0.1112,  0.4337,  ...,  0.1854,  0.3073,  0.4766],\n",
            "        [ 0.0000,  0.0000,  0.0000,  ...,  0.0000,  0.0000,  0.0000]])\n"
          ],
          "name": "stdout"
        }
      ]
    },
    {
      "cell_type": "code",
      "metadata": {
        "id": "6N-4kQR0DxNF",
        "colab_type": "code",
        "colab": {}
      },
      "source": [
        "model.to(device) #CNN to GPU\n",
        "\n",
        "\n",
        "# Loss and optimizer\n",
        "criterion = nn.BCEWithLogitsLoss()\n",
        "optimizer = torch.optim.Adam(model.parameters(), learning_rate)\n"
      ],
      "execution_count": 87,
      "outputs": []
    },
    {
      "cell_type": "code",
      "metadata": {
        "id": "mF-FRBjVD6Gz",
        "colab_type": "code",
        "colab": {}
      },
      "source": [
        "def binary_accuracy(preds, y):\n",
        "    \"\"\"\n",
        "    Returns accuracy per batch, i.e. if you get 8/10 right, this returns 0.8, NOT 8\n",
        "    \"\"\"\n",
        "\n",
        "    #round predictions to the closest integer\n",
        "    rounded_preds = torch.round(torch.sigmoid(preds))\n",
        "    correct = (rounded_preds == y).float() #convert into float for division \n",
        "    acc = correct.sum() / len(correct)\n",
        "    return acc"
      ],
      "execution_count": 88,
      "outputs": []
    },
    {
      "cell_type": "code",
      "metadata": {
        "id": "HG6cPE2CD6gN",
        "colab_type": "code",
        "colab": {}
      },
      "source": [
        "def train(model, iterator):\n",
        "    epoch_loss = 0\n",
        "    epoch_acc = 0\n",
        "    \n",
        "    model.train()\n",
        "    \n",
        "    for batch in iterator:\n",
        "        text, text_lengths = batch.text\n",
        "        # for a in text_lengths:\n",
        "        #   if(a.item <= 0):\n",
        "        #     text_lengths.remove\n",
        "        optimizer.zero_grad()\n",
        "        predictions = model(text, text_lengths).squeeze(1)\n",
        "        loss = criterion(predictions, batch.label)\n",
        "        acc = binary_accuracy(predictions, batch.label)\n",
        "\n",
        "        loss.backward()\n",
        "        optimizer.step()\n",
        "        \n",
        "        epoch_loss += loss.item()\n",
        "        epoch_acc += acc.item()\n",
        "        \n",
        "\n",
        "    return epoch_loss / len(iterator), epoch_acc / len(iterator)"
      ],
      "execution_count": 89,
      "outputs": []
    },
    {
      "cell_type": "code",
      "metadata": {
        "id": "upm_H3RxD75G",
        "colab_type": "code",
        "colab": {}
      },
      "source": [
        "def evaluate(model, iterator):\n",
        "    \n",
        "    epoch_loss = 0\n",
        "    epoch_acc = 0\n",
        "    model.eval()\n",
        "    \n",
        "    with torch.no_grad():\n",
        "        for batch in iterator:\n",
        "            text, text_lengths = batch.text\n",
        "\n",
        "            predictions = model(text, text_lengths).squeeze(1)\n",
        "            loss = criterion(predictions, batch.label)\n",
        "            acc = binary_accuracy(predictions, batch.label)\n",
        "            \n",
        "            epoch_loss += loss.item()\n",
        "            epoch_acc += acc.item()\n",
        "        \n",
        "    return epoch_loss / len(iterator), epoch_acc / len(iterator)"
      ],
      "execution_count": 90,
      "outputs": []
    },
    {
      "cell_type": "code",
      "metadata": {
        "id": "RtJgYjKdD9de",
        "colab_type": "code",
        "colab": {
          "base_uri": "https://localhost:8080/",
          "height": 1000
        },
        "outputId": "46784138-cf78-4817-8e5a-6ca230fd7966"
      },
      "source": [
        "import time\n",
        "\n",
        "t = time.time()\n",
        "loss=[]\n",
        "acc=[]\n",
        "val_acc=[]\n",
        "val_losses=[]\n",
        "\n",
        "for epoch in range(num_epochs):\n",
        "    train_loss, train_acc = train(model, train_iterator)\n",
        "    val_loss, valid_acc = evaluate(model, valid_iterator)\n",
        "    print(\"Epoch \" + str(epoch) + \" :\")\n",
        "    print(f'\\tTrain Loss: {train_loss:.3f} | Train Acc: {train_acc*100:.2f}%')\n",
        "    print(f'\\tVal Loss: {val_loss:.3f} | Val. Acc: {valid_acc*100:.2f}%')\n",
        "    print('\\n')\n",
        "    loss.append(train_loss)\n",
        "    acc.append(train_acc)\n",
        "    val_acc.append(valid_acc)\n",
        "    val_losses.append(val_loss)\n",
        "print(f'time:{time.time()-t:.3f}')"
      ],
      "execution_count": 91,
      "outputs": [
        {
          "output_type": "stream",
          "text": [
            "Epoch 0 :\n",
            "\tTrain Loss: 0.689 | Train Acc: 54.22%\n",
            "\tVal Loss: 0.672 | Val. Acc: 60.05%\n",
            "\n",
            "\n",
            "Epoch 1 :\n",
            "\tTrain Loss: 0.668 | Train Acc: 57.46%\n",
            "\tVal Loss: 0.649 | Val. Acc: 61.14%\n",
            "\n",
            "\n",
            "Epoch 2 :\n",
            "\tTrain Loss: 0.645 | Train Acc: 59.57%\n",
            "\tVal Loss: 0.645 | Val. Acc: 61.61%\n",
            "\n",
            "\n",
            "Epoch 3 :\n",
            "\tTrain Loss: 0.628 | Train Acc: 60.61%\n",
            "\tVal Loss: 0.632 | Val. Acc: 62.31%\n",
            "\n",
            "\n",
            "Epoch 4 :\n",
            "\tTrain Loss: 0.613 | Train Acc: 61.80%\n",
            "\tVal Loss: 0.637 | Val. Acc: 62.12%\n",
            "\n",
            "\n",
            "Epoch 5 :\n",
            "\tTrain Loss: 0.602 | Train Acc: 62.51%\n",
            "\tVal Loss: 0.639 | Val. Acc: 62.25%\n",
            "\n",
            "\n",
            "Epoch 6 :\n",
            "\tTrain Loss: 0.590 | Train Acc: 63.06%\n",
            "\tVal Loss: 0.640 | Val. Acc: 61.59%\n",
            "\n",
            "\n",
            "Epoch 7 :\n",
            "\tTrain Loss: 0.581 | Train Acc: 63.35%\n",
            "\tVal Loss: 0.649 | Val. Acc: 62.05%\n",
            "\n",
            "\n",
            "Epoch 8 :\n",
            "\tTrain Loss: 0.569 | Train Acc: 64.59%\n",
            "\tVal Loss: 0.662 | Val. Acc: 61.43%\n",
            "\n",
            "\n",
            "Epoch 9 :\n",
            "\tTrain Loss: 0.562 | Train Acc: 64.86%\n",
            "\tVal Loss: 0.665 | Val. Acc: 61.34%\n",
            "\n",
            "\n",
            "Epoch 10 :\n",
            "\tTrain Loss: 0.554 | Train Acc: 64.99%\n",
            "\tVal Loss: 0.695 | Val. Acc: 61.39%\n",
            "\n",
            "\n",
            "Epoch 11 :\n",
            "\tTrain Loss: 0.543 | Train Acc: 65.75%\n",
            "\tVal Loss: 0.710 | Val. Acc: 61.41%\n",
            "\n",
            "\n",
            "Epoch 12 :\n",
            "\tTrain Loss: 0.540 | Train Acc: 65.64%\n",
            "\tVal Loss: 0.721 | Val. Acc: 61.53%\n",
            "\n",
            "\n",
            "Epoch 13 :\n",
            "\tTrain Loss: 0.535 | Train Acc: 66.17%\n",
            "\tVal Loss: 0.749 | Val. Acc: 61.67%\n",
            "\n",
            "\n",
            "Epoch 14 :\n",
            "\tTrain Loss: 0.527 | Train Acc: 66.59%\n",
            "\tVal Loss: 0.725 | Val. Acc: 60.80%\n",
            "\n",
            "\n",
            "Epoch 15 :\n",
            "\tTrain Loss: 0.519 | Train Acc: 67.06%\n",
            "\tVal Loss: 0.782 | Val. Acc: 61.10%\n",
            "\n",
            "\n",
            "Epoch 16 :\n",
            "\tTrain Loss: 0.513 | Train Acc: 67.29%\n",
            "\tVal Loss: 0.829 | Val. Acc: 60.85%\n",
            "\n",
            "\n",
            "Epoch 17 :\n",
            "\tTrain Loss: 0.509 | Train Acc: 67.39%\n",
            "\tVal Loss: 0.782 | Val. Acc: 60.79%\n",
            "\n",
            "\n",
            "Epoch 18 :\n",
            "\tTrain Loss: 0.505 | Train Acc: 67.78%\n",
            "\tVal Loss: 0.814 | Val. Acc: 60.64%\n",
            "\n",
            "\n",
            "Epoch 19 :\n",
            "\tTrain Loss: 0.499 | Train Acc: 68.09%\n",
            "\tVal Loss: 0.900 | Val. Acc: 61.23%\n",
            "\n",
            "\n",
            "Epoch 20 :\n",
            "\tTrain Loss: 0.495 | Train Acc: 68.30%\n",
            "\tVal Loss: 0.895 | Val. Acc: 60.96%\n",
            "\n",
            "\n",
            "Epoch 21 :\n",
            "\tTrain Loss: 0.489 | Train Acc: 68.74%\n",
            "\tVal Loss: 0.918 | Val. Acc: 60.58%\n",
            "\n",
            "\n",
            "Epoch 22 :\n",
            "\tTrain Loss: 0.488 | Train Acc: 68.68%\n",
            "\tVal Loss: 0.904 | Val. Acc: 60.69%\n",
            "\n",
            "\n",
            "Epoch 23 :\n",
            "\tTrain Loss: 0.483 | Train Acc: 69.02%\n",
            "\tVal Loss: 0.950 | Val. Acc: 60.79%\n",
            "\n",
            "\n",
            "Epoch 24 :\n",
            "\tTrain Loss: 0.480 | Train Acc: 69.34%\n",
            "\tVal Loss: 0.986 | Val. Acc: 60.61%\n",
            "\n",
            "\n",
            "time:526.215\n"
          ],
          "name": "stdout"
        }
      ]
    },
    {
      "cell_type": "code",
      "metadata": {
        "id": "v4LL6LFEyIZw",
        "colab_type": "code",
        "colab": {}
      },
      "source": [
        ""
      ],
      "execution_count": null,
      "outputs": []
    }
  ]
}