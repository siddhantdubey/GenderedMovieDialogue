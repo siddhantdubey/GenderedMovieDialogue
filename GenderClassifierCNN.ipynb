{
  "nbformat": 4,
  "nbformat_minor": 0,
  "metadata": {
    "colab": {
      "name": "GenderClassifierCNN.ipynb",
      "provenance": [],
      "authorship_tag": "ABX9TyO6tH2Cejd5mNIP6RRG8NG6",
      "include_colab_link": true
    },
    "kernelspec": {
      "name": "python3",
      "display_name": "Python 3"
    },
    "accelerator": "GPU"
  },
  "cells": [
    {
      "cell_type": "markdown",
      "metadata": {
        "id": "view-in-github",
        "colab_type": "text"
      },
      "source": [
        "<a href=\"https://colab.research.google.com/github/siddhantdubey/GenderedMovieDialogue/blob/master/GenderClassifierCNN.ipynb\" target=\"_parent\"><img src=\"https://colab.research.google.com/assets/colab-badge.svg\" alt=\"Open In Colab\"/></a>"
      ]
    },
    {
      "cell_type": "code",
      "metadata": {
        "id": "SLDCKt1YUh8h",
        "colab_type": "code",
        "colab": {
          "base_uri": "https://localhost:8080/",
          "height": 34
        },
        "outputId": "a70da689-3b11-4481-d81f-b50f52a18f53"
      },
      "source": [
        "from google.colab import drive\n",
        "drive.mount('/content/gdrive', force_remount=True)\n",
        "root_dir = \"/content/gdrive/My Drive/Folders/Work/Research/CornellMovie/data/\""
      ],
      "execution_count": null,
      "outputs": [
        {
          "output_type": "stream",
          "text": [
            "Mounted at /content/gdrive\n"
          ],
          "name": "stdout"
        }
      ]
    },
    {
      "cell_type": "code",
      "metadata": {
        "id": "CNsGoBhjU0fz",
        "colab_type": "code",
        "colab": {}
      },
      "source": [
        "import torch.nn as nn\n",
        "import torch.nn.functional as F\n",
        "import torch.optim as optim\n",
        "import torch\n",
        "import pandas as pd\n",
        "import numpy as np\n",
        "import matplotlib.pyplot as plt\n",
        "from gensim.parsing.preprocessing import remove_stopwords\n",
        "from gensim.utils import simple_preprocess\n",
        "from gensim.parsing.porter import PorterStemmer\n",
        "from gensim.models import Word2Vec\n"
      ],
      "execution_count": null,
      "outputs": []
    },
    {
      "cell_type": "code",
      "metadata": {
        "id": "b_xbjVrtVfbw",
        "colab_type": "code",
        "colab": {}
      },
      "source": [
        "X_train = []\n",
        "Y_train = []\n",
        "X_test = []\n",
        "Y_test = []"
      ],
      "execution_count": null,
      "outputs": []
    },
    {
      "cell_type": "code",
      "metadata": {
        "id": "wLS7GzJdVk1g",
        "colab_type": "code",
        "colab": {}
      },
      "source": [
        "with open(root_dir + 'training_set.txt', encoding=\"charmap\") as training:\n",
        "  for line in training:\n",
        "    line = line.strip()\n",
        "    line_num, chr_id, movie_id, chr_name, chr_gender, line_text, credit = line.split(\"+++$+++\")\n",
        "    if(chr_gender.strip().lower() == \"m\"):\n",
        "      Y_train.append(0)\n",
        "      X_train.append(line_text.strip())\n",
        "    elif(chr_gender.strip().lower() == \"f\"):\n",
        "      Y_train.append(1)\n",
        "      X_train.append(line_text.strip())\n",
        "\n",
        "with open(root_dir + 'test_set.txt', encoding=\"charmap\") as test:\n",
        "  for line in test:\n",
        "    line = line.strip()\n",
        "    line_num, chr_id, movie_id, chr_name, chr_gender, line_text, credit = line.split(\"+++$+++\")\n",
        "    if(chr_gender.strip().lower() == \"m\"):\n",
        "      Y_test.append(0)\n",
        "      X_test.append(line_text.strip())\n",
        "\n",
        "    elif(chr_gender.strip().lower() == \"f\"):\n",
        "      Y_test.append(1)\n",
        "      X_test.append(line_text.strip())"
      ],
      "execution_count": null,
      "outputs": []
    },
    {
      "cell_type": "code",
      "metadata": {
        "id": "8yDQpEQdVmjI",
        "colab_type": "code",
        "colab": {}
      },
      "source": [
        "X = X_train + X_test \n",
        "Y = Y_train + Y_test "
      ],
      "execution_count": null,
      "outputs": []
    },
    {
      "cell_type": "code",
      "metadata": {
        "id": "nYRAB4tWV92A",
        "colab_type": "code",
        "colab": {}
      },
      "source": [
        "indices = []\n",
        "for i in range(len(X)):\n",
        "  if(len(X[i]) > 0):\n",
        "    answer = True \n",
        "  else:\n",
        "    indices.append(i)\n",
        "\n",
        "for index in sorted(indices, reverse=True):\n",
        "    del X[index]\n",
        "    del Y[index]"
      ],
      "execution_count": null,
      "outputs": []
    },
    {
      "cell_type": "code",
      "metadata": {
        "id": "-pT_ykDeWG2A",
        "colab_type": "code",
        "colab": {}
      },
      "source": [
        "data_df = pd.DataFrame()"
      ],
      "execution_count": null,
      "outputs": []
    },
    {
      "cell_type": "code",
      "metadata": {
        "id": "aN075SkaWO1Y",
        "colab_type": "code",
        "colab": {
          "base_uri": "https://localhost:8080/",
          "height": 204
        },
        "outputId": "980f50f1-52a1-4256-86e3-f02a89d0d131"
      },
      "source": [
        "data_df['text'] = X\n",
        "data_df['gender'] = Y\n",
        "print(data_df.head(10))"
      ],
      "execution_count": null,
      "outputs": [
        {
          "output_type": "stream",
          "text": [
            "                                                text  gender\n",
            "0                                       They do not!       1\n",
            "1                                        They do to!       0\n",
            "2                                         I hope so.       1\n",
            "3                                          She okay?       0\n",
            "4                                          Let's go.       1\n",
            "5                                                Wow       0\n",
            "6     Okay -- you're gonna need to learn how to lie.       1\n",
            "7                                                 No       0\n",
            "8  I'm kidding.  You know how sometimes you just ...       1\n",
            "9                   Like my fear of wearing pastels?       1\n"
          ],
          "name": "stdout"
        }
      ]
    },
    {
      "cell_type": "code",
      "metadata": {
        "id": "_BzEsihBW5_i",
        "colab_type": "code",
        "colab": {}
      },
      "source": [
        "def get_top_data(top_n = 30000):\n",
        "  top_data_df_male = data_df[data_df['gender'] == 0].head(top_n)\n",
        "  top_data_df_female = data_df[data_df['gender'] == 1].head(top_n)\n",
        "  data_df_small = pd.concat([top_data_df_male, top_data_df_female])\n",
        "  return data_df_small"
      ],
      "execution_count": null,
      "outputs": []
    },
    {
      "cell_type": "code",
      "metadata": {
        "id": "QkBTLIRhXZmy",
        "colab_type": "code",
        "colab": {}
      },
      "source": [
        "top_data_df_small = get_top_data(top_n=31000)"
      ],
      "execution_count": null,
      "outputs": []
    },
    {
      "cell_type": "code",
      "metadata": {
        "id": "-B4-S7hJXhOg",
        "colab_type": "code",
        "colab": {
          "base_uri": "https://localhost:8080/",
          "height": 255
        },
        "outputId": "51b9c775-cba1-42ce-922b-d77eb4b9b48c"
      },
      "source": [
        "print(top_data_df_small['gender'].value_counts())\n",
        "print(top_data_df_small.head(10))"
      ],
      "execution_count": null,
      "outputs": [
        {
          "output_type": "stream",
          "text": [
            "1    31000\n",
            "0    31000\n",
            "Name: gender, dtype: int64\n",
            "                                                 text  gender\n",
            "1                                         They do to!       0\n",
            "3                                           She okay?       0\n",
            "5                                                 Wow       0\n",
            "7                                                  No       0\n",
            "10                                    The \"real you\".       0\n",
            "12  I figured you'd get to the good stuff eventually.       0\n",
            "13  Thank God!  If I had to hear one more story ab...       0\n",
            "15                                         What crap?       0\n",
            "17                                              No...       0\n",
            "19                      You always been this selfish?       0\n"
          ],
          "name": "stdout"
        }
      ]
    },
    {
      "cell_type": "code",
      "metadata": {
        "id": "LlP7shuyXmWo",
        "colab_type": "code",
        "colab": {
          "base_uri": "https://localhost:8080/",
          "height": 204
        },
        "outputId": "df3fd1ad-dbdb-40e7-ecb4-6e2d1233c986"
      },
      "source": [
        "top_data_df_small['tokenized_text'] = [simple_preprocess(line, deacc=True) for line in top_data_df_small['text']]\n",
        "print(top_data_df_small['tokenized_text'].head(10))\n"
      ],
      "execution_count": null,
      "outputs": [
        {
          "output_type": "stream",
          "text": [
            "1                                        [they, do, to]\n",
            "3                                           [she, okay]\n",
            "5                                                 [wow]\n",
            "7                                                  [no]\n",
            "10                                     [the, real, you]\n",
            "12    [figured, you, get, to, the, good, stuff, even...\n",
            "13    [thank, god, if, had, to, hear, one, more, sto...\n",
            "15                                         [what, crap]\n",
            "17                                                 [no]\n",
            "19                   [you, always, been, this, selfish]\n",
            "Name: tokenized_text, dtype: object\n"
          ],
          "name": "stdout"
        }
      ]
    },
    {
      "cell_type": "code",
      "metadata": {
        "id": "VsMuqJFTX0nX",
        "colab_type": "code",
        "colab": {}
      },
      "source": [
        "porter_stemmer = PorterStemmer()"
      ],
      "execution_count": null,
      "outputs": []
    },
    {
      "cell_type": "code",
      "metadata": {
        "id": "_3x5GiRSYVfx",
        "colab_type": "code",
        "colab": {
          "base_uri": "https://localhost:8080/",
          "height": 204
        },
        "outputId": "8c95b7c1-ccd8-445d-86e4-7003baea40bc"
      },
      "source": [
        "top_data_df_small['stemmed_tokens'] = [[porter_stemmer.stem(word) for word in tokens] for tokens in top_data_df_small['tokenized_text']]\n",
        "top_data_df_small['stemmed_tokens'].head(10)"
      ],
      "execution_count": null,
      "outputs": [
        {
          "output_type": "execute_result",
          "data": {
            "text/plain": [
              "1                                        [thei, do, to]\n",
              "3                                           [she, okai]\n",
              "5                                                 [wow]\n",
              "7                                                  [no]\n",
              "10                                     [the, real, you]\n",
              "12      [figur, you, get, to, the, good, stuff, eventu]\n",
              "13    [thank, god, if, had, to, hear, on, more, stor...\n",
              "15                                         [what, crap]\n",
              "17                                                 [no]\n",
              "19                     [you, alwai, been, thi, selfish]\n",
              "Name: stemmed_tokens, dtype: object"
            ]
          },
          "metadata": {
            "tags": []
          },
          "execution_count": 14
        }
      ]
    },
    {
      "cell_type": "code",
      "metadata": {
        "id": "cjdOMnsVYln_",
        "colab_type": "code",
        "colab": {
          "base_uri": "https://localhost:8080/",
          "height": 323
        },
        "outputId": "9033e8bd-a649-4878-e0f7-bba60af8acd9"
      },
      "source": [
        "from sklearn.model_selection import train_test_split\n",
        "def split_train_test(top_data_df_small, test_size=0.2, shuffle_state=True):\n",
        "    X_train, X_test, Y_train, Y_test = train_test_split(top_data_df_small[['text', 'stemmed_tokens']], \n",
        "                                                        top_data_df_small['gender'], \n",
        "                                                        shuffle=shuffle_state,\n",
        "                                                        test_size=test_size, \n",
        "                                                        random_state=15)\n",
        "    print(\"Value counts for Train genders\")\n",
        "    print(Y_train.value_counts())\n",
        "    print(\"Value counts for Test genders\")\n",
        "    print(Y_test.value_counts())\n",
        "    print(type(X_train))\n",
        "    print(type(Y_train))\n",
        "    X_train = X_train.reset_index()\n",
        "    X_test = X_test.reset_index()\n",
        "    Y_train = Y_train.to_frame()\n",
        "    Y_train = Y_train.reset_index()\n",
        "    Y_test = Y_test.to_frame()\n",
        "    Y_test = Y_test.reset_index()\n",
        "    print(X_train.head())\n",
        "    return X_train, X_test, Y_train, Y_test\n",
        "\n",
        "# Call the train_test_split\n",
        "X_train, X_test, Y_train, Y_test = split_train_test(top_data_df_small)"
      ],
      "execution_count": null,
      "outputs": [
        {
          "output_type": "stream",
          "text": [
            "Value counts for Train genders\n",
            "0    24842\n",
            "1    24758\n",
            "Name: gender, dtype: int64\n",
            "Value counts for Test genders\n",
            "1    6242\n",
            "0    6158\n",
            "Name: gender, dtype: int64\n",
            "<class 'pandas.core.frame.DataFrame'>\n",
            "<class 'pandas.core.series.Series'>\n",
            "   index  ...                                     stemmed_tokens\n",
            "0  10055  ...  [perfectli, certain, becaus, shall, make, him,...\n",
            "1  36234  ...  [am, small, player, but, if, by, help, you, ca...\n",
            "2  38206  ...         [love, anim, ouch, must, love, anim, rose]\n",
            "3  25549  ...                 [wick, thei, got, your, crew, too]\n",
            "4  47537  ...                                            [peter]\n",
            "\n",
            "[5 rows x 3 columns]\n"
          ],
          "name": "stdout"
        }
      ]
    },
    {
      "cell_type": "code",
      "metadata": {
        "id": "uVR92LYNZQB3",
        "colab_type": "code",
        "colab": {
          "base_uri": "https://localhost:8080/",
          "height": 51
        },
        "outputId": "805ae3da-92d9-4b0d-9f6b-622892f8f6db"
      },
      "source": [
        "device = torch.device(\"cuda\" if torch.cuda.is_available() else \"cpu\")\n",
        "print(\"Device available for running: \")\n",
        "print(device)"
      ],
      "execution_count": null,
      "outputs": [
        {
          "output_type": "stream",
          "text": [
            "Device available for running: \n",
            "cuda\n"
          ],
          "name": "stdout"
        }
      ]
    },
    {
      "cell_type": "code",
      "metadata": {
        "id": "aRnwNJPyZUdn",
        "colab_type": "code",
        "colab": {
          "base_uri": "https://localhost:8080/",
          "height": 88
        },
        "outputId": "13a421b7-ca65-46de-9212-6acbfc764dcd"
      },
      "source": [
        "size = 500\n",
        "window = 3\n",
        "min_count = 1\n",
        "workers = 3\n",
        "sg = 1\n",
        "OUTPUT_FOLDER = root_dir + 'cnnOutputs/'\n",
        "# Function to train word2vec model\n",
        "def make_word2vec_model(top_data_df_small, padding=True, sg=1, min_count=1, size=500, workers=3, window=3):\n",
        "    if  padding:\n",
        "        print(len(top_data_df_small))\n",
        "        temp_df = pd.Series(top_data_df_small['stemmed_tokens']).values\n",
        "        temp_df = list(temp_df)\n",
        "        temp_df.append(['pad'])\n",
        "        word2vec_file = OUTPUT_FOLDER + 'models/' + 'word2vec_' + str(size) + '_PAD.model'\n",
        "    else:\n",
        "        temp_df = top_data_df_small['stemmed_tokens']\n",
        "        word2vec_file = OUTPUT_FOLDER + 'models/' + 'word2vec_' + str(size) + '.model'\n",
        "    w2v_model = Word2Vec(temp_df, min_count = min_count, size = size, workers = workers, window = window, sg = sg)\n",
        "\n",
        "    w2v_model.save(word2vec_file)\n",
        "    return w2v_model, word2vec_file\n",
        "\n",
        "# Train Word2vec model\n",
        "w2vmodel, word2vec_file = make_word2vec_model(top_data_df_small, padding=True, sg=sg, min_count=min_count, size=size, workers=workers, window=window)"
      ],
      "execution_count": null,
      "outputs": [
        {
          "output_type": "stream",
          "text": [
            "62000\n"
          ],
          "name": "stdout"
        },
        {
          "output_type": "stream",
          "text": [
            "/usr/local/lib/python3.6/dist-packages/smart_open/smart_open_lib.py:253: UserWarning: This function is deprecated, use smart_open.open instead. See the migration notes for details: https://github.com/RaRe-Technologies/smart_open/blob/master/README.rst#migrating-to-the-new-open-function\n",
            "  'See the migration notes for details: %s' % _MIGRATION_NOTES_URL\n"
          ],
          "name": "stderr"
        }
      ]
    },
    {
      "cell_type": "code",
      "metadata": {
        "id": "thq6Ta38Zq-f",
        "colab_type": "code",
        "colab": {}
      },
      "source": [
        "max_sen_len = top_data_df_small.stemmed_tokens.map(len).max()\n",
        "padding_idx = w2vmodel.wv.vocab['pad'].index\n",
        "def make_word2vec_vector_cnn(sentence):\n",
        "    padded_X = [padding_idx for i in range(max_sen_len)]\n",
        "    i = 0\n",
        "    for word in sentence:\n",
        "        if word not in w2vmodel.wv.vocab:\n",
        "            padded_X[i] = 0\n",
        "            print(word)\n",
        "        else:\n",
        "            padded_X[i] = w2vmodel.wv.vocab[word].index\n",
        "        i += 1\n",
        "    return torch.tensor(padded_X, dtype=torch.long, device=device).view(1, -1)"
      ],
      "execution_count": null,
      "outputs": []
    },
    {
      "cell_type": "code",
      "metadata": {
        "id": "LKZut1e8Zukw",
        "colab_type": "code",
        "colab": {}
      },
      "source": [
        "def make_target(label):\n",
        "    if label == 1:\n",
        "        return torch.tensor([0], dtype=torch.long, device=device)\n",
        "    elif label == 0:\n",
        "        return torch.tensor([1], dtype=torch.long, device=device)\n",
        "    "
      ],
      "execution_count": null,
      "outputs": []
    },
    {
      "cell_type": "code",
      "metadata": {
        "id": "5KgMwL7pZveo",
        "colab_type": "code",
        "colab": {}
      },
      "source": [
        "EMBEDDING_SIZE = 500\n",
        "NUM_FILTERS = 2\n",
        "import gensim\n",
        "\n",
        "class CnnTextClassifier(nn.Module):\n",
        "    def __init__(self, vocab_size, num_classes, window_sizes=(1,2,3,5)):\n",
        "        super(CnnTextClassifier, self).__init__()\n",
        "        w2vmodel = gensim.models.KeyedVectors.load(OUTPUT_FOLDER + 'models/' + 'word2vec_500_PAD.model')\n",
        "        weights = w2vmodel.wv\n",
        "        # With pretrained embeddings\n",
        "        self.embedding = nn.Embedding.from_pretrained(torch.FloatTensor(weights.vectors), padding_idx=w2vmodel.wv.vocab['pad'].index)\n",
        "        # Without pretrained embeddings\n",
        "        # self.embedding = nn.Embedding(vocab_size, EMBEDDING_SIZE)\n",
        "\n",
        "        self.convs = nn.ModuleList([\n",
        "                                   nn.Conv2d(1, NUM_FILTERS, [window_size, EMBEDDING_SIZE], padding=(window_size - 1, 0))\n",
        "                                   for window_size in window_sizes\n",
        "        ])\n",
        "\n",
        "        self.fc = nn.Linear(NUM_FILTERS * len(window_sizes), num_classes)\n",
        "\n",
        "    def forward(self, x):\n",
        "        x = self.embedding(x) # [B, T, E]\n",
        "\n",
        "        # Apply a convolution + max_pool layer for each window size\n",
        "        x = torch.unsqueeze(x, 1)\n",
        "        xs = []\n",
        "        for conv in self.convs:\n",
        "            x2 = torch.tanh(conv(x))\n",
        "            x2 = torch.squeeze(x2, -1)\n",
        "            x2 = F.max_pool1d(x2, x2.size(2))\n",
        "            xs.append(x2)\n",
        "        x = torch.cat(xs, 2)\n",
        "\n",
        "        # FC\n",
        "        x = x.view(x.size(0), -1)\n",
        "        logits = self.fc(x)\n",
        "\n",
        "        probs = F.softmax(logits, dim = 1)\n",
        "\n",
        "        return probs"
      ],
      "execution_count": null,
      "outputs": []
    },
    {
      "cell_type": "code",
      "metadata": {
        "id": "DoaPiXdthqci",
        "colab_type": "code",
        "colab": {}
      },
      "source": [
        "def binary_accuracy(preds, y):\n",
        "    \"\"\"\n",
        "    Returns accuracy per batch, i.e. if you get 8/10 right, this returns 0.8, NOT 8\n",
        "    \"\"\"\n",
        "\n",
        "    #round predictions to the closest integer\n",
        "    rounded_preds = torch.round(torch.sigmoid(preds))\n",
        "    correct = (rounded_preds == y).float() #convert into float for division \n",
        "    acc = correct.sum() / len(correct)\n",
        "    return acc"
      ],
      "execution_count": null,
      "outputs": []
    },
    {
      "cell_type": "code",
      "metadata": {
        "id": "pd2-YHOPaD4P",
        "colab_type": "code",
        "colab": {
          "base_uri": "https://localhost:8080/",
          "height": 1000
        },
        "outputId": "d4eae76c-2437-43c6-9e4b-5ac0762620d4"
      },
      "source": [
        "import time\n",
        "NUM_CLASSES = 2\n",
        "VOCAB_SIZE = len(w2vmodel.wv.vocab)\n",
        "\n",
        "cnn_model = CnnTextClassifier(vocab_size=VOCAB_SIZE, num_classes=NUM_CLASSES)\n",
        "cnn_model.to(device)\n",
        "loss_function = nn.CrossEntropyLoss()\n",
        "criterion=nn.BCEWithLogitsLoss()\n",
        "optimizer = optim.Adam(cnn_model.parameters(), lr=0.001)\n",
        "num_epochs = 30\n",
        "\n",
        "# Open the file for writing loss\n",
        "loss_file_name = OUTPUT_FOLDER +  'plots/' + 'cnn_class_big_loss_with_padding.csv'\n",
        "f = open(loss_file_name,'w+')\n",
        "f.write('iter, loss')\n",
        "f.write('\\n')\n",
        "losses = []\n",
        "accs = []\n",
        "cnn_model.train()\n",
        "total_time = time.time()\n",
        "for epoch in range(num_epochs):\n",
        "    print(\"Epoch \" + str(epoch + 1))\n",
        "    train_loss = 0\n",
        "    epoch_acc = 0\n",
        "    t= time.time()\n",
        "    for index, row in X_train.iterrows():\n",
        "        # Clearing the accumulated gradients\n",
        "        cnn_model.zero_grad()\n",
        "\n",
        "        # Make the bag of words vector for stemmed tokens \n",
        "        bow_vec = make_word2vec_vector_cnn(row['stemmed_tokens'])\n",
        "       \n",
        "        # Forward pass to get output\n",
        "        probs = cnn_model(bow_vec)\n",
        "     \n",
        "        # Get the target label\n",
        "        target = make_target(Y_train['gender'][index])\n",
        "   \n",
        "        acc = binary_accuracy(probs, target)\n",
        "        # Calculate Loss: softmax --> cross entropy loss\n",
        "        loss = loss_function(probs, target)\n",
        "        train_loss += loss.item()\n",
        "        epoch_acc += acc.item()\n",
        "        # Getting gradients w.r.t. parameters\n",
        "        loss.backward()\n",
        "\n",
        "        # Updating parameters\n",
        "        optimizer.step()\n",
        "\n",
        "\n",
        "    # if index == 0:\n",
        "    #     continue\n",
        "    print(\"Epoch ran : \"+ str(epoch+1))\n",
        "    losses.append(train_loss)\n",
        "    accs.append(epoch_acc)\n",
        "    print(\"Loss: \" + str(train_loss/len(X_train)) + '\\n')\n",
        "    print(\"Acc: \" + str(epoch_acc/len(X_train)) + '\\n')\n",
        "    # print(str(train_loss / len(X_train)))\n",
        "    f.write(str((epoch+1)) + \",\" + str(train_loss / len(X_train)))\n",
        "    f.write('\\n')\n",
        "    train_loss = 0\n",
        "    print(\"Time for Epoch: \" + f'time:{time.time()-t:.3f}')\n",
        "torch.save(cnn_model, OUTPUT_FOLDER + 'cnn_big_model_500_with_padding.pth')\n",
        "\n",
        "f.close()\n",
        "print(\"Input vector\")\n",
        "print(bow_vec.cpu().numpy())\n",
        "print(\"Probs\")\n",
        "print(probs)\n",
        "print(torch.argmax(probs, dim=1).cpu().numpy()[0])\n",
        "print(f\"Total training time:{time.time()-total_time:.3f}\")"
      ],
      "execution_count": null,
      "outputs": [
        {
          "output_type": "stream",
          "text": [
            "/usr/local/lib/python3.6/dist-packages/smart_open/smart_open_lib.py:253: UserWarning: This function is deprecated, use smart_open.open instead. See the migration notes for details: https://github.com/RaRe-Technologies/smart_open/blob/master/README.rst#migrating-to-the-new-open-function\n",
            "  'See the migration notes for details: %s' % _MIGRATION_NOTES_URL\n"
          ],
          "name": "stderr"
        },
        {
          "output_type": "stream",
          "text": [
            "Epoch 1\n",
            "Epoch ran : 1\n",
            "Loss: 0.6910126071219002\n",
            "\n",
            "Acc: 1.0016935483870968\n",
            "\n",
            "Time for Epoch: time:347.548\n",
            "Epoch 2\n",
            "Epoch ran : 2\n",
            "Loss: 0.689455940818354\n",
            "\n",
            "Acc: 1.0016935483870968\n",
            "\n",
            "Time for Epoch: time:341.777\n",
            "Epoch 3\n",
            "Epoch ran : 3\n",
            "Loss: 0.6879701623044187\n",
            "\n",
            "Acc: 1.0016935483870968\n",
            "\n",
            "Time for Epoch: time:346.730\n",
            "Epoch 4\n",
            "Epoch ran : 4\n",
            "Loss: 0.6865106315586356\n",
            "\n",
            "Acc: 1.0016935483870968\n",
            "\n",
            "Time for Epoch: time:345.374\n",
            "Epoch 5\n",
            "Epoch ran : 5\n",
            "Loss: 0.6865880737225375\n",
            "\n",
            "Acc: 1.0016935483870968\n",
            "\n",
            "Time for Epoch: time:343.950\n",
            "Epoch 6\n",
            "Epoch ran : 6\n",
            "Loss: 0.6855349385401895\n",
            "\n",
            "Acc: 1.0016935483870968\n",
            "\n",
            "Time for Epoch: time:345.883\n",
            "Epoch 7\n",
            "Epoch ran : 7\n",
            "Loss: 0.6844313704006133\n",
            "\n",
            "Acc: 1.0016935483870968\n",
            "\n",
            "Time for Epoch: time:346.477\n",
            "Epoch 8\n",
            "Epoch ran : 8\n",
            "Loss: 0.6830093969596971\n",
            "\n",
            "Acc: 1.0016935483870968\n",
            "\n",
            "Time for Epoch: time:348.486\n",
            "Epoch 9\n",
            "Epoch ran : 9\n",
            "Loss: 0.6825892695375989\n",
            "\n",
            "Acc: 1.0016935483870968\n",
            "\n",
            "Time for Epoch: time:346.254\n",
            "Epoch 10\n",
            "Epoch ran : 10\n",
            "Loss: 0.6824851126608349\n",
            "\n",
            "Acc: 1.0016935483870968\n",
            "\n",
            "Time for Epoch: time:347.729\n",
            "Epoch 11\n",
            "Epoch ran : 11\n",
            "Loss: 0.6814098429187171\n",
            "\n",
            "Acc: 1.0016935483870968\n",
            "\n",
            "Time for Epoch: time:345.873\n",
            "Epoch 12\n",
            "Epoch ran : 12\n",
            "Loss: 0.68111745068503\n",
            "\n",
            "Acc: 1.0016935483870968\n",
            "\n",
            "Time for Epoch: time:347.440\n",
            "Epoch 13\n",
            "Epoch ran : 13\n",
            "Loss: 0.681204010843029\n",
            "\n",
            "Acc: 1.0016935483870968\n",
            "\n",
            "Time for Epoch: time:347.503\n",
            "Epoch 14\n",
            "Epoch ran : 14\n",
            "Loss: 0.6804460385910446\n",
            "\n",
            "Acc: 1.0016935483870968\n",
            "\n",
            "Time for Epoch: time:348.954\n",
            "Epoch 15\n",
            "Epoch ran : 15\n",
            "Loss: 0.6798558300853736\n",
            "\n",
            "Acc: 1.0016935483870968\n",
            "\n",
            "Time for Epoch: time:347.281\n",
            "Epoch 16\n",
            "Epoch ran : 16\n",
            "Loss: 0.6797067434304664\n",
            "\n",
            "Acc: 1.0016935483870968\n",
            "\n",
            "Time for Epoch: time:344.955\n",
            "Epoch 17\n",
            "Epoch ran : 17\n",
            "Loss: 0.6787047811044801\n",
            "\n",
            "Acc: 1.0016935483870968\n",
            "\n",
            "Time for Epoch: time:346.323\n",
            "Epoch 18\n",
            "Epoch ran : 18\n",
            "Loss: 0.6783972736339896\n",
            "\n",
            "Acc: 1.0016935483870968\n",
            "\n",
            "Time for Epoch: time:349.161\n",
            "Epoch 19\n",
            "Epoch ran : 19\n",
            "Loss: 0.678090921587521\n",
            "\n",
            "Acc: 1.0016935483870968\n",
            "\n",
            "Time for Epoch: time:348.162\n",
            "Epoch 20\n",
            "Epoch ran : 20\n",
            "Loss: 0.6786258617223752\n",
            "\n",
            "Acc: 1.0016935483870968\n",
            "\n",
            "Time for Epoch: time:349.181\n",
            "Epoch 21\n",
            "Epoch ran : 21\n",
            "Loss: 0.6774603666533385\n",
            "\n",
            "Acc: 1.0016935483870968\n",
            "\n",
            "Time for Epoch: time:347.076\n",
            "Epoch 22\n",
            "Epoch ran : 22\n",
            "Loss: 0.6767423950424117\n",
            "\n",
            "Acc: 1.0016935483870968\n",
            "\n",
            "Time for Epoch: time:347.330\n",
            "Epoch 23\n",
            "Epoch ran : 23\n",
            "Loss: 0.676915503087784\n",
            "\n",
            "Acc: 1.0016935483870968\n",
            "\n",
            "Time for Epoch: time:347.762\n",
            "Epoch 24\n",
            "Epoch ran : 24\n",
            "Loss: 0.6764557315108757\n",
            "\n",
            "Acc: 1.0016935483870968\n",
            "\n",
            "Time for Epoch: time:347.359\n",
            "Epoch 25\n",
            "Epoch ran : 25\n",
            "Loss: 0.6764705598522579\n",
            "\n",
            "Acc: 1.0016935483870968\n",
            "\n",
            "Time for Epoch: time:347.797\n",
            "Epoch 26\n",
            "Epoch ran : 26\n",
            "Loss: 0.6760708043303701\n",
            "\n",
            "Acc: 1.0016935483870968\n",
            "\n",
            "Time for Epoch: time:346.571\n",
            "Epoch 27\n",
            "Epoch ran : 27\n",
            "Loss: 0.675638886807907\n",
            "\n",
            "Acc: 1.0016935483870968\n",
            "\n",
            "Time for Epoch: time:346.522\n",
            "Epoch 28\n",
            "Epoch ran : 28\n",
            "Loss: 0.6751622162182485\n",
            "\n",
            "Acc: 1.0016935483870968\n",
            "\n",
            "Time for Epoch: time:346.057\n",
            "Epoch 29\n",
            "Epoch ran : 29\n",
            "Loss: 0.6753348113908884\n",
            "\n",
            "Acc: 1.0016935483870968\n",
            "\n",
            "Time for Epoch: time:347.120\n",
            "Epoch 30\n",
            "Epoch ran : 30\n",
            "Loss: 0.675490222501178\n",
            "\n",
            "Acc: 1.0016935483870968\n",
            "\n",
            "Time for Epoch: time:346.734\n",
            "Input vector\n",
            "[[   0   32 9949    0  974    9    1  637    5  243   10 1011    7 1781\n",
            "     9    1 4672   12 1513  203  353    5  597   13    0   16    1  708\n",
            "    52 3961 3961 3961 3961 3961 3961 3961 3961 3961 3961 3961 3961 3961\n",
            "  3961 3961 3961 3961 3961 3961 3961 3961 3961 3961 3961 3961 3961 3961\n",
            "  3961 3961 3961 3961 3961 3961 3961 3961 3961 3961 3961 3961 3961 3961\n",
            "  3961 3961 3961 3961 3961 3961 3961 3961 3961 3961 3961 3961 3961 3961\n",
            "  3961 3961 3961 3961 3961 3961 3961 3961 3961 3961 3961 3961 3961 3961\n",
            "  3961 3961 3961 3961 3961 3961 3961 3961 3961 3961 3961 3961 3961 3961\n",
            "  3961 3961 3961 3961 3961 3961 3961 3961 3961 3961 3961 3961 3961 3961\n",
            "  3961 3961 3961 3961 3961 3961 3961 3961 3961 3961 3961 3961 3961 3961\n",
            "  3961 3961 3961 3961 3961 3961 3961 3961 3961 3961 3961 3961 3961 3961\n",
            "  3961 3961 3961 3961 3961 3961 3961 3961 3961 3961 3961 3961 3961 3961\n",
            "  3961 3961 3961 3961 3961 3961 3961 3961 3961 3961 3961 3961 3961 3961\n",
            "  3961 3961 3961 3961 3961 3961 3961 3961 3961 3961 3961 3961 3961 3961\n",
            "  3961 3961 3961 3961 3961 3961 3961 3961 3961 3961 3961 3961 3961 3961\n",
            "  3961 3961 3961 3961 3961 3961 3961 3961 3961 3961 3961 3961 3961 3961\n",
            "  3961 3961 3961 3961 3961 3961 3961 3961 3961 3961 3961 3961 3961 3961\n",
            "  3961 3961 3961 3961 3961 3961 3961 3961 3961 3961 3961 3961 3961 3961\n",
            "  3961 3961 3961 3961 3961 3961 3961 3961 3961 3961 3961 3961 3961 3961\n",
            "  3961 3961 3961 3961 3961 3961 3961 3961 3961 3961 3961 3961 3961 3961\n",
            "  3961 3961 3961 3961 3961 3961 3961 3961 3961 3961 3961 3961 3961 3961\n",
            "  3961 3961 3961 3961 3961 3961 3961 3961 3961 3961 3961 3961 3961 3961\n",
            "  3961 3961 3961 3961 3961 3961 3961 3961 3961 3961 3961 3961 3961 3961\n",
            "  3961 3961 3961 3961 3961 3961 3961 3961 3961 3961 3961 3961 3961 3961\n",
            "  3961 3961 3961 3961 3961 3961 3961 3961 3961 3961 3961 3961 3961 3961\n",
            "  3961 3961 3961 3961 3961 3961 3961 3961 3961 3961 3961 3961 3961 3961\n",
            "  3961 3961 3961 3961 3961 3961 3961 3961 3961 3961 3961 3961 3961 3961\n",
            "  3961 3961 3961 3961 3961 3961 3961 3961 3961 3961 3961 3961 3961 3961\n",
            "  3961 3961 3961 3961 3961 3961 3961 3961 3961 3961 3961 3961 3961 3961\n",
            "  3961 3961 3961 3961 3961 3961 3961 3961 3961 3961 3961 3961 3961 3961\n",
            "  3961 3961 3961 3961 3961 3961 3961 3961 3961 3961 3961 3961 3961 3961\n",
            "  3961 3961 3961 3961 3961 3961 3961 3961 3961 3961 3961 3961 3961 3961\n",
            "  3961 3961 3961 3961 3961 3961 3961 3961 3961 3961 3961 3961 3961]]\n",
            "Probs\n",
            "tensor([[0.6037, 0.3963]], device='cuda:0', grad_fn=<SoftmaxBackward>)\n",
            "0\n",
            "Total training time:10405.492\n"
          ],
          "name": "stdout"
        },
        {
          "output_type": "stream",
          "text": [
            "/usr/local/lib/python3.6/dist-packages/torch/serialization.py:402: UserWarning: Couldn't retrieve source code for container of type CnnTextClassifier. It won't be checked for correctness upon loading.\n",
            "  \"type \" + obj.__name__ + \". It won't be checked \"\n"
          ],
          "name": "stderr"
        }
      ]
    },
    {
      "cell_type": "code",
      "metadata": {
        "id": "I7uwNhjKaZSS",
        "colab_type": "code",
        "colab": {
          "base_uri": "https://localhost:8080/",
          "height": 450
        },
        "outputId": "754b8ff3-122f-4794-aabb-03aea24e2c07"
      },
      "source": [
        "from sklearn.metrics import classification_report\n",
        "bow_cnn_predictions = []\n",
        "original_lables_cnn_bow = []\n",
        "cnn_model.eval()\n",
        "loss_df = pd.read_csv(OUTPUT_FOLDER + 'plots/' 'cnn_class_big_loss_with_padding.csv')\n",
        "print(loss_df.columns)\n",
        "test_accs = []\n",
        "# loss_df.plot('loss')\n",
        "with torch.no_grad():\n",
        "    for index, row in X_test.iterrows():\n",
        "        bow_vec = make_word2vec_vector_cnn(row['stemmed_tokens'])\n",
        "        probs = cnn_model(bow_vec)\n",
        "        _, predicted = torch.max(probs.data, 1)\n",
        "        bow_cnn_predictions.append(predicted.cpu().numpy()[0])\n",
        "        original_lables_cnn_bow.append(make_target(Y_test['gender'][index]).cpu().numpy()[0])\n",
        "print(classification_report(original_lables_cnn_bow,bow_cnn_predictions))\n",
        "loss_file_name = OUTPUT_FOLDER +  'plots/' + 'cnn_class_big_loss_with_padding.csv'\n",
        "loss_df = pd.read_csv(loss_file_name)\n",
        "print(loss_df.columns)\n",
        "plt_500_padding_30_epochs = loss_df[' loss'].plot()\n",
        "fig = plt_500_padding_30_epochs.get_figure()\n",
        "fig.savefig(OUTPUT_FOLDER +'plots/' + \"loss_plt_500_padding_30_epochs.pdf\")"
      ],
      "execution_count": null,
      "outputs": [
        {
          "output_type": "stream",
          "text": [
            "Index(['iter', ' loss'], dtype='object')\n",
            "              precision    recall  f1-score   support\n",
            "\n",
            "           0       0.54      0.75      0.63      6242\n",
            "           1       0.57      0.34      0.43      6158\n",
            "\n",
            "    accuracy                           0.55     12400\n",
            "   macro avg       0.56      0.55      0.53     12400\n",
            "weighted avg       0.55      0.55      0.53     12400\n",
            "\n",
            "Index(['iter', ' loss'], dtype='object')\n"
          ],
          "name": "stdout"
        },
        {
          "output_type": "display_data",
          "data": {
            "image/png": "[encoded data removed]",
            "text/plain": [
              "<Figure size 432x288 with 1 Axes>"
            ]
          },
          "metadata": {
            "tags": [],
            "needs_background": "light"
          }
        }
      ]
    },
    {
      "cell_type": "code",
      "metadata": {
        "id": "43ihSXmOafaG",
        "colab_type": "code",
        "colab": {}
      },
      "source": [
        ""
      ],
      "execution_count": null,
      "outputs": []
    }
  ]
}