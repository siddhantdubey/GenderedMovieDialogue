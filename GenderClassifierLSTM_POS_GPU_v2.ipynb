{
 "cells": [
  {
   "cell_type": "code",
   "execution_count": 1,
   "metadata": {},
   "outputs": [],
   "source": [
    "import torch\n",
    "import torch.autograd as autograd\n",
    "import torch.nn as nn\n",
    "import torch.functional as F\n",
    "import torch.optim as optim\n",
    "from torch.nn.utils.rnn import pack_padded_sequence, pad_packed_sequence\n",
    "import torchvision.transforms as transforms\n",
    "import torchvision.datasets as dsets\n",
    "from torchtext import data\n",
    "\n",
    "from sklearn.metrics import classification_report, confusion_matrix, accuracy_score\n",
    "\n",
    "import numpy as np\n",
    "import pandas as pd\n",
    "import random\n",
    "import ast"
   ]
  },
  {
   "cell_type": "code",
   "execution_count": 2,
   "metadata": {},
   "outputs": [],
   "source": [
    "train = {}\n",
    "test = {}\n",
    "X_train = []\n",
    "X_train_vect = []\n",
    "Y_train = []\n",
    "X_test = []\n",
    "X_test_vect = []\n",
    "Y_test = []\n",
    "\n",
    "pos_tags = ['JJ','JJR','JJS','NNP','NNPS','RB','RBR','RBS']\n",
    "torch.cuda.set_device(0)\n",
    "torch.cuda.get_device_name(0)\n",
    "\n",
    "device = torch.device(\"cuda:0\")\n",
    "\n",
    "random.seed(42)"
   ]
  },
  {
   "cell_type": "code",
   "execution_count": 3,
   "metadata": {},
   "outputs": [],
   "source": [
    "with open(r'data/male_tagged_train.txt', encoding = 'charmap') as mtagged_train:\n",
    "    for line in mtagged_train:\n",
    "        line = str(line.strip())\n",
    "        line = ast.literal_eval(line)\n",
    "        train[tuple(line)] = 0\n",
    "\n",
    "with open(r'data/male_tagged_test.txt', encoding = 'charmap') as mtagged_test:\n",
    "    for line in mtagged_test:\n",
    "        line = str(line.strip())\n",
    "        line = ast.literal_eval(line)\n",
    "        test[tuple(line)] = 0\n",
    "\n",
    "with open(r'data/female_tagged_train.txt', encoding = 'charmap') as ftagged_train:\n",
    "    for line in ftagged_train:\n",
    "        line = str(line.strip())\n",
    "        line = ast.literal_eval(line)\n",
    "        train[tuple(line)] = 1\n",
    "        \n",
    "with open(r'data/female_tagged_test.txt', encoding = 'charmap') as ftagged_test:\n",
    "    for line in ftagged_test:\n",
    "        line = str(line.strip())\n",
    "        line = ast.literal_eval(line)\n",
    "        test[tuple(line)] = 1"
   ]
  },
  {
   "cell_type": "code",
   "execution_count": 4,
   "metadata": {},
   "outputs": [],
   "source": [
    "train_keys = list(train.keys())\n",
    "random.shuffle(train_keys)\n",
    "train_set =  [(key, train[key]) for key in train_keys]\n",
    "\n",
    "\n",
    "test_keys = list(test.keys())\n",
    "random.shuffle(test_keys)\n",
    "test_set= [(key, test[key]) for key in test_keys]"
   ]
  },
  {
   "cell_type": "code",
   "execution_count": 5,
   "metadata": {},
   "outputs": [],
   "source": [
    "def str_to_vect(x):\n",
    "    pos_dict = {key : 0 for key in pos_tags}\n",
    "    tag_list = []\n",
    "    for i in range(len(x)):\n",
    "        temp = x[i][1]\n",
    "        tag_list.append(temp)\n",
    "    for j in range(len(tag_list)):\n",
    "        if str(tag_list[j]) in list(pos_dict.keys()):\n",
    "            pos_dict[tag_list[j]] += 1\n",
    "    \n",
    "    pos_vector = list(pos_dict.values())\n",
    "    total = sum(pos_vector)\n",
    "    pos_prop_vector = []\n",
    "    if total != 0:\n",
    "        for k in range(len(pos_vector)):\n",
    "            pos_prop_vector.append(pos_vector[k] / total)\n",
    "\n",
    "        out = np.array(pos_prop_vector)\n",
    "    else:\n",
    "        out = np.zeros((8,))\n",
    "\n",
    "    return out"
   ]
  },
  {
   "cell_type": "code",
   "execution_count": 6,
   "metadata": {
    "scrolled": true
   },
   "outputs": [],
   "source": [
    "for i in range(len(train_set)):\n",
    "    X_train.append(train_set[i][0])\n",
    "    Y_train.append(train_set[i][1])\n",
    "\n",
    "for j in range(len(test_set)):\n",
    "    X_test.append(test_set[j][0])\n",
    "    Y_test.append(test_set[j][1])"
   ]
  },
  {
   "cell_type": "code",
   "execution_count": 7,
   "metadata": {},
   "outputs": [
    {
     "data": {
      "text/plain": [
       "'x_indices = []\\nfor i in range(len(X_train)):\\n    if(len(X_train[i]) > 0):\\n        answer = True \\n    else:\\n        x_indices.append(i)\\n\\nfor index in sorted(x_indices, reverse=True):\\n    del X_train[index]\\n    del Y_train[index]\\n\\ny_indices = []\\nfor i in range(len(X_test)):\\n    if(len(X_test[i]) > 0):\\n        answer = True\\n    else:\\n        y_indices.append(i)\\n\\nfor index in sorted(y_indices, reverse=True):\\n    del X_test[index]\\n    del Y_test[index]'"
      ]
     },
     "execution_count": 7,
     "metadata": {},
     "output_type": "execute_result"
    }
   ],
   "source": [
    "'''x_indices = []\n",
    "for i in range(len(X_train)):\n",
    "    if(len(X_train[i]) > 0):\n",
    "        answer = True \n",
    "    else:\n",
    "        x_indices.append(i)\n",
    "\n",
    "for index in sorted(x_indices, reverse=True):\n",
    "    del X_train[index]\n",
    "    del Y_train[index]\n",
    "\n",
    "y_indices = []\n",
    "for i in range(len(X_test)):\n",
    "    if(len(X_test[i]) > 0):\n",
    "        answer = True\n",
    "    else:\n",
    "        y_indices.append(i)\n",
    "\n",
    "for index in sorted(y_indices, reverse=True):\n",
    "    del X_test[index]\n",
    "    del Y_test[index]'''"
   ]
  },
  {
   "cell_type": "code",
   "execution_count": 8,
   "metadata": {},
   "outputs": [],
   "source": [
    "for i in range(len(X_train)):\n",
    "    X_train_vect.append(str_to_vect(X_train[i]))\n",
    "\n",
    "for j in range(len(X_test)):\n",
    "    X_test_vect.append(str_to_vect(X_test[j]))"
   ]
  },
  {
   "cell_type": "code",
   "execution_count": 9,
   "metadata": {},
   "outputs": [],
   "source": [
    "df = pd.DataFrame()"
   ]
  },
  {
   "cell_type": "code",
   "execution_count": 10,
   "metadata": {},
   "outputs": [],
   "source": [
    "X = X_train_vect + X_test_vect\n",
    "Y = Y_train + Y_test\n",
    "df['pos'] = X_train_vect \n",
    "df['target'] = Y_train "
   ]
  },
  {
   "cell_type": "code",
   "execution_count": 11,
   "metadata": {},
   "outputs": [
    {
     "data": {
      "text/plain": [
       "96112"
      ]
     },
     "execution_count": 11,
     "metadata": {},
     "output_type": "execute_result"
    }
   ],
   "source": [
    "Y.count(1)"
   ]
  },
  {
   "cell_type": "code",
   "execution_count": 12,
   "metadata": {},
   "outputs": [],
   "source": [
    "def get_top_data(top_n = 30000):\n",
    "    top_data_df_male = df[df['target'] == 0].head(top_n)\n",
    "    top_data_df_female = df[df['target'] == 1].head(top_n)\n",
    "    data_df_small = pd.concat([top_data_df_male, top_data_df_female])\n",
    "    return data_df_small"
   ]
  },
  {
   "cell_type": "code",
   "execution_count": 13,
   "metadata": {},
   "outputs": [],
   "source": [
    "top_data_df_small = get_top_data(top_n=114250)"
   ]
  },
  {
   "cell_type": "code",
   "execution_count": 14,
   "metadata": {},
   "outputs": [
    {
     "name": "stdout",
     "output_type": "stream",
     "text": [
      "Value counts for Train genders\n",
      "1    61045\n",
      "0    59261\n",
      "Name: target, dtype: int64\n",
      "Value counts for Test genders\n",
      "1    15166\n",
      "0    14911\n",
      "Name: target, dtype: int64\n",
      "<class 'pandas.core.frame.DataFrame'>\n",
      "<class 'pandas.core.series.Series'>\n",
      "    index                                       pos\n",
      "0   57701  [0.0, 0.0, 0.0, 0.0, 0.0, 1.0, 0.0, 0.0]\n",
      "1   85462  [0.0, 0.0, 0.0, 0.0, 0.0, 0.0, 0.0, 0.0]\n",
      "2  101770  [0.0, 0.0, 0.0, 1.0, 0.0, 0.0, 0.0, 0.0]\n",
      "3   53504  [0.0, 0.0, 0.0, 1.0, 0.0, 0.0, 0.0, 0.0]\n",
      "4  116594  [0.0, 0.0, 0.0, 1.0, 0.0, 0.0, 0.0, 0.0]\n"
     ]
    }
   ],
   "source": [
    "from sklearn.model_selection import train_test_split\n",
    "def split_train_test(top_data_df_small, test_size=0.2, shuffle_state=True):\n",
    "    X_train_vect, X_test_vect, Y_train, Y_test = train_test_split(top_data_df_small[['pos']], \n",
    "                                                        top_data_df_small['target'], \n",
    "                                                        shuffle=shuffle_state,\n",
    "                                                        test_size=test_size, \n",
    "                                                        random_state=15)\n",
    "    print(\"Value counts for Train genders\")\n",
    "    print(Y_train.value_counts())\n",
    "    print(\"Value counts for Test genders\")\n",
    "    print(Y_test.value_counts())\n",
    "    print(type(X_train_vect))\n",
    "    print(type(Y_train))\n",
    "    X_train_vect = X_train_vect.reset_index()\n",
    "    X_test_vect = X_test_vect.reset_index()\n",
    "    Y_train = Y_train.to_frame()\n",
    "    Y_train = Y_train.reset_index()\n",
    "    Y_test = Y_test.to_frame()\n",
    "    Y_test = Y_test.reset_index()\n",
    "    print(X_train_vect.head())\n",
    "    return X_train_vect, X_test_vect, Y_train, Y_test\n",
    "\n",
    "# Call the train_test_split\n",
    "X_train_vect, X_test_vect, Y_train, Y_test = split_train_test(top_data_df_small)"
   ]
  },
  {
   "cell_type": "code",
   "execution_count": 15,
   "metadata": {},
   "outputs": [],
   "source": [
    "test_df = pd.DataFrame()"
   ]
  },
  {
   "cell_type": "code",
   "execution_count": 16,
   "metadata": {},
   "outputs": [
    {
     "name": "stdout",
     "output_type": "stream",
     "text": [
      "         index  target\n",
      "0        57701       1\n",
      "1        85462       1\n",
      "2       101770       0\n",
      "3        53504       0\n",
      "4       116594       1\n",
      "...        ...     ...\n",
      "120301   72059       0\n",
      "120302   84269       1\n",
      "120303   60468       1\n",
      "120304   16270       0\n",
      "120305   15394       0\n",
      "\n",
      "[120306 rows x 2 columns]\n"
     ]
    }
   ],
   "source": [
    "print(Y_train)"
   ]
  },
  {
   "cell_type": "code",
   "execution_count": 17,
   "metadata": {},
   "outputs": [],
   "source": [
    "test_df['pos'] = X_test_vect['pos']\n",
    "test_df['target'] = Y_test['target']"
   ]
  },
  {
   "cell_type": "code",
   "execution_count": 18,
   "metadata": {},
   "outputs": [
    {
     "data": {
      "text/html": [
       "<div>\n",
       "<style scoped>\n",
       "    .dataframe tbody tr th:only-of-type {\n",
       "        vertical-align: middle;\n",
       "    }\n",
       "\n",
       "    .dataframe tbody tr th {\n",
       "        vertical-align: top;\n",
       "    }\n",
       "\n",
       "    .dataframe thead th {\n",
       "        text-align: right;\n",
       "    }\n",
       "</style>\n",
       "<table border=\"1\" class=\"dataframe\">\n",
       "  <thead>\n",
       "    <tr style=\"text-align: right;\">\n",
       "      <th></th>\n",
       "      <th>pos</th>\n",
       "      <th>target</th>\n",
       "    </tr>\n",
       "  </thead>\n",
       "  <tbody>\n",
       "    <tr>\n",
       "      <th>0</th>\n",
       "      <td>[0.0, 0.0, 0.0, 1.0, 0.0, 0.0, 0.0, 0.0]</td>\n",
       "      <td>1</td>\n",
       "    </tr>\n",
       "    <tr>\n",
       "      <th>1</th>\n",
       "      <td>[0.0, 0.0, 0.0, 0.5, 0.0, 0.5, 0.0, 0.0]</td>\n",
       "      <td>0</td>\n",
       "    </tr>\n",
       "    <tr>\n",
       "      <th>2</th>\n",
       "      <td>[0.0, 0.0, 0.0, 0.0, 0.0, 1.0, 0.0, 0.0]</td>\n",
       "      <td>0</td>\n",
       "    </tr>\n",
       "    <tr>\n",
       "      <th>3</th>\n",
       "      <td>[0.0, 0.0, 0.0, 0.0, 0.0, 1.0, 0.0, 0.0]</td>\n",
       "      <td>1</td>\n",
       "    </tr>\n",
       "    <tr>\n",
       "      <th>4</th>\n",
       "      <td>[0.0, 0.0, 0.0, 1.0, 0.0, 0.0, 0.0, 0.0]</td>\n",
       "      <td>1</td>\n",
       "    </tr>\n",
       "    <tr>\n",
       "      <th>5</th>\n",
       "      <td>[0.5, 0.0, 0.0, 0.5, 0.0, 0.0, 0.0, 0.0]</td>\n",
       "      <td>0</td>\n",
       "    </tr>\n",
       "    <tr>\n",
       "      <th>6</th>\n",
       "      <td>[0.0, 0.0, 0.0, 0.0, 0.0, 0.0, 0.0, 0.0]</td>\n",
       "      <td>1</td>\n",
       "    </tr>\n",
       "    <tr>\n",
       "      <th>7</th>\n",
       "      <td>[0.0, 0.0, 0.0, 0.6666666666666666, 0.0, 0.333...</td>\n",
       "      <td>1</td>\n",
       "    </tr>\n",
       "    <tr>\n",
       "      <th>8</th>\n",
       "      <td>[0.0, 0.0, 0.0, 1.0, 0.0, 0.0, 0.0, 0.0]</td>\n",
       "      <td>0</td>\n",
       "    </tr>\n",
       "    <tr>\n",
       "      <th>9</th>\n",
       "      <td>[0.5, 0.0, 0.0, 0.5, 0.0, 0.0, 0.0, 0.0]</td>\n",
       "      <td>1</td>\n",
       "    </tr>\n",
       "  </tbody>\n",
       "</table>\n",
       "</div>"
      ],
      "text/plain": [
       "                                                 pos  target\n",
       "0           [0.0, 0.0, 0.0, 1.0, 0.0, 0.0, 0.0, 0.0]       1\n",
       "1           [0.0, 0.0, 0.0, 0.5, 0.0, 0.5, 0.0, 0.0]       0\n",
       "2           [0.0, 0.0, 0.0, 0.0, 0.0, 1.0, 0.0, 0.0]       0\n",
       "3           [0.0, 0.0, 0.0, 0.0, 0.0, 1.0, 0.0, 0.0]       1\n",
       "4           [0.0, 0.0, 0.0, 1.0, 0.0, 0.0, 0.0, 0.0]       1\n",
       "5           [0.5, 0.0, 0.0, 0.5, 0.0, 0.0, 0.0, 0.0]       0\n",
       "6           [0.0, 0.0, 0.0, 0.0, 0.0, 0.0, 0.0, 0.0]       1\n",
       "7  [0.0, 0.0, 0.0, 0.6666666666666666, 0.0, 0.333...       1\n",
       "8           [0.0, 0.0, 0.0, 1.0, 0.0, 0.0, 0.0, 0.0]       0\n",
       "9           [0.5, 0.0, 0.0, 0.5, 0.0, 0.0, 0.0, 0.0]       1"
      ]
     },
     "execution_count": 18,
     "metadata": {},
     "output_type": "execute_result"
    }
   ],
   "source": [
    "test_df.head(10)"
   ]
  },
  {
   "cell_type": "code",
   "execution_count": 19,
   "metadata": {},
   "outputs": [],
   "source": [
    "train_df = pd.DataFrame()\n",
    "train_df['pos'] = X_train_vect['pos']\n",
    "train_df['target'] = Y_train['target']"
   ]
  },
  {
   "cell_type": "code",
   "execution_count": 20,
   "metadata": {},
   "outputs": [
    {
     "data": {
      "text/html": [
       "<div>\n",
       "<style scoped>\n",
       "    .dataframe tbody tr th:only-of-type {\n",
       "        vertical-align: middle;\n",
       "    }\n",
       "\n",
       "    .dataframe tbody tr th {\n",
       "        vertical-align: top;\n",
       "    }\n",
       "\n",
       "    .dataframe thead th {\n",
       "        text-align: right;\n",
       "    }\n",
       "</style>\n",
       "<table border=\"1\" class=\"dataframe\">\n",
       "  <thead>\n",
       "    <tr style=\"text-align: right;\">\n",
       "      <th></th>\n",
       "      <th>pos</th>\n",
       "      <th>target</th>\n",
       "    </tr>\n",
       "  </thead>\n",
       "  <tbody>\n",
       "    <tr>\n",
       "      <th>0</th>\n",
       "      <td>[0.0, 0.0, 0.0, 0.0, 0.0, 1.0, 0.0, 0.0]</td>\n",
       "      <td>1</td>\n",
       "    </tr>\n",
       "    <tr>\n",
       "      <th>1</th>\n",
       "      <td>[0.0, 0.0, 0.0, 0.0, 0.0, 0.0, 0.0, 0.0]</td>\n",
       "      <td>1</td>\n",
       "    </tr>\n",
       "    <tr>\n",
       "      <th>2</th>\n",
       "      <td>[0.0, 0.0, 0.0, 1.0, 0.0, 0.0, 0.0, 0.0]</td>\n",
       "      <td>0</td>\n",
       "    </tr>\n",
       "    <tr>\n",
       "      <th>3</th>\n",
       "      <td>[0.0, 0.0, 0.0, 1.0, 0.0, 0.0, 0.0, 0.0]</td>\n",
       "      <td>0</td>\n",
       "    </tr>\n",
       "    <tr>\n",
       "      <th>4</th>\n",
       "      <td>[0.0, 0.0, 0.0, 1.0, 0.0, 0.0, 0.0, 0.0]</td>\n",
       "      <td>1</td>\n",
       "    </tr>\n",
       "    <tr>\n",
       "      <th>5</th>\n",
       "      <td>[1.0, 0.0, 0.0, 0.0, 0.0, 0.0, 0.0, 0.0]</td>\n",
       "      <td>0</td>\n",
       "    </tr>\n",
       "    <tr>\n",
       "      <th>6</th>\n",
       "      <td>[0.0, 0.0, 0.0, 0.0, 0.0, 0.0, 0.0, 0.0]</td>\n",
       "      <td>0</td>\n",
       "    </tr>\n",
       "    <tr>\n",
       "      <th>7</th>\n",
       "      <td>[0.0, 0.0, 0.0, 0.25, 0.0, 0.75, 0.0, 0.0]</td>\n",
       "      <td>1</td>\n",
       "    </tr>\n",
       "    <tr>\n",
       "      <th>8</th>\n",
       "      <td>[0.14285714285714285, 0.0, 0.0, 0.285714285714...</td>\n",
       "      <td>1</td>\n",
       "    </tr>\n",
       "    <tr>\n",
       "      <th>9</th>\n",
       "      <td>[0.0, 0.0, 0.0, 0.0, 0.0, 1.0, 0.0, 0.0]</td>\n",
       "      <td>0</td>\n",
       "    </tr>\n",
       "    <tr>\n",
       "      <th>10</th>\n",
       "      <td>[0.0, 0.0, 0.0, 0.5, 0.0, 0.5, 0.0, 0.0]</td>\n",
       "      <td>1</td>\n",
       "    </tr>\n",
       "    <tr>\n",
       "      <th>11</th>\n",
       "      <td>[0.0, 0.0, 0.0, 0.0, 0.0, 0.0, 0.0, 0.0]</td>\n",
       "      <td>0</td>\n",
       "    </tr>\n",
       "    <tr>\n",
       "      <th>12</th>\n",
       "      <td>[0.0, 0.0, 0.0, 1.0, 0.0, 0.0, 0.0, 0.0]</td>\n",
       "      <td>1</td>\n",
       "    </tr>\n",
       "    <tr>\n",
       "      <th>13</th>\n",
       "      <td>[0.0, 0.0, 0.0, 0.0, 0.0, 1.0, 0.0, 0.0]</td>\n",
       "      <td>0</td>\n",
       "    </tr>\n",
       "    <tr>\n",
       "      <th>14</th>\n",
       "      <td>[0.3333333333333333, 0.0, 0.0, 0.3333333333333...</td>\n",
       "      <td>0</td>\n",
       "    </tr>\n",
       "    <tr>\n",
       "      <th>15</th>\n",
       "      <td>[0.0, 0.0, 0.0, 0.0, 0.0, 1.0, 0.0, 0.0]</td>\n",
       "      <td>1</td>\n",
       "    </tr>\n",
       "    <tr>\n",
       "      <th>16</th>\n",
       "      <td>[0.0, 0.0, 0.0, 0.0, 0.0, 1.0, 0.0, 0.0]</td>\n",
       "      <td>1</td>\n",
       "    </tr>\n",
       "    <tr>\n",
       "      <th>17</th>\n",
       "      <td>[0.0, 0.0, 0.0, 0.6666666666666666, 0.0, 0.333...</td>\n",
       "      <td>1</td>\n",
       "    </tr>\n",
       "    <tr>\n",
       "      <th>18</th>\n",
       "      <td>[0.5, 0.0, 0.0, 0.0, 0.0, 0.5, 0.0, 0.0]</td>\n",
       "      <td>1</td>\n",
       "    </tr>\n",
       "    <tr>\n",
       "      <th>19</th>\n",
       "      <td>[0.0, 0.0, 0.0, 0.5, 0.0, 0.5, 0.0, 0.0]</td>\n",
       "      <td>1</td>\n",
       "    </tr>\n",
       "    <tr>\n",
       "      <th>20</th>\n",
       "      <td>[0.0, 0.0, 0.0, 0.0, 0.0, 1.0, 0.0, 0.0]</td>\n",
       "      <td>0</td>\n",
       "    </tr>\n",
       "    <tr>\n",
       "      <th>21</th>\n",
       "      <td>[0.5, 0.0, 0.0, 0.5, 0.0, 0.0, 0.0, 0.0]</td>\n",
       "      <td>1</td>\n",
       "    </tr>\n",
       "    <tr>\n",
       "      <th>22</th>\n",
       "      <td>[0.0, 0.0, 0.0, 0.0, 0.0, 1.0, 0.0, 0.0]</td>\n",
       "      <td>0</td>\n",
       "    </tr>\n",
       "    <tr>\n",
       "      <th>23</th>\n",
       "      <td>[0.4, 0.0, 0.0, 0.2, 0.0, 0.4, 0.0, 0.0]</td>\n",
       "      <td>0</td>\n",
       "    </tr>\n",
       "    <tr>\n",
       "      <th>24</th>\n",
       "      <td>[0.0, 0.0, 0.0, 1.0, 0.0, 0.0, 0.0, 0.0]</td>\n",
       "      <td>1</td>\n",
       "    </tr>\n",
       "    <tr>\n",
       "      <th>25</th>\n",
       "      <td>[0.0, 0.0, 0.0, 0.0, 0.0, 1.0, 0.0, 0.0]</td>\n",
       "      <td>1</td>\n",
       "    </tr>\n",
       "    <tr>\n",
       "      <th>26</th>\n",
       "      <td>[0.0, 0.0, 0.0, 0.0, 0.0, 0.0, 0.0, 0.0]</td>\n",
       "      <td>0</td>\n",
       "    </tr>\n",
       "    <tr>\n",
       "      <th>27</th>\n",
       "      <td>[0.0, 0.0, 0.0, 0.0, 0.0, 0.0, 0.0, 0.0]</td>\n",
       "      <td>0</td>\n",
       "    </tr>\n",
       "    <tr>\n",
       "      <th>28</th>\n",
       "      <td>[0.0, 0.0, 0.0, 0.0, 0.0, 1.0, 0.0, 0.0]</td>\n",
       "      <td>1</td>\n",
       "    </tr>\n",
       "    <tr>\n",
       "      <th>29</th>\n",
       "      <td>[0.0, 0.0, 0.0, 0.0, 0.0, 0.0, 0.0, 0.0]</td>\n",
       "      <td>1</td>\n",
       "    </tr>\n",
       "    <tr>\n",
       "      <th>30</th>\n",
       "      <td>[0.0, 0.0, 0.0, 0.0, 0.0, 0.0, 0.0, 0.0]</td>\n",
       "      <td>1</td>\n",
       "    </tr>\n",
       "    <tr>\n",
       "      <th>31</th>\n",
       "      <td>[0.0, 0.0, 0.0, 1.0, 0.0, 0.0, 0.0, 0.0]</td>\n",
       "      <td>1</td>\n",
       "    </tr>\n",
       "    <tr>\n",
       "      <th>32</th>\n",
       "      <td>[1.0, 0.0, 0.0, 0.0, 0.0, 0.0, 0.0, 0.0]</td>\n",
       "      <td>1</td>\n",
       "    </tr>\n",
       "    <tr>\n",
       "      <th>33</th>\n",
       "      <td>[0.0, 0.0, 0.0, 0.0, 0.0, 0.0, 0.0, 0.0]</td>\n",
       "      <td>1</td>\n",
       "    </tr>\n",
       "    <tr>\n",
       "      <th>34</th>\n",
       "      <td>[0.0, 0.0, 0.0, 0.0, 0.0, 0.0, 0.0, 0.0]</td>\n",
       "      <td>0</td>\n",
       "    </tr>\n",
       "    <tr>\n",
       "      <th>35</th>\n",
       "      <td>[0.0, 0.0, 0.0, 1.0, 0.0, 0.0, 0.0, 0.0]</td>\n",
       "      <td>0</td>\n",
       "    </tr>\n",
       "    <tr>\n",
       "      <th>36</th>\n",
       "      <td>[0.0, 0.0, 0.0, 0.0, 0.0, 1.0, 0.0, 0.0]</td>\n",
       "      <td>1</td>\n",
       "    </tr>\n",
       "    <tr>\n",
       "      <th>37</th>\n",
       "      <td>[0.0, 0.0, 0.0, 1.0, 0.0, 0.0, 0.0, 0.0]</td>\n",
       "      <td>0</td>\n",
       "    </tr>\n",
       "    <tr>\n",
       "      <th>38</th>\n",
       "      <td>[0.0, 0.0, 0.0, 0.5, 0.0, 0.5, 0.0, 0.0]</td>\n",
       "      <td>0</td>\n",
       "    </tr>\n",
       "    <tr>\n",
       "      <th>39</th>\n",
       "      <td>[0.0, 0.0, 0.0, 1.0, 0.0, 0.0, 0.0, 0.0]</td>\n",
       "      <td>1</td>\n",
       "    </tr>\n",
       "    <tr>\n",
       "      <th>40</th>\n",
       "      <td>[0.0, 0.0, 0.0, 0.0, 0.0, 0.0, 0.0, 0.0]</td>\n",
       "      <td>0</td>\n",
       "    </tr>\n",
       "    <tr>\n",
       "      <th>41</th>\n",
       "      <td>[0.0, 0.0, 0.0, 0.0, 0.0, 0.0, 0.0, 0.0]</td>\n",
       "      <td>0</td>\n",
       "    </tr>\n",
       "    <tr>\n",
       "      <th>42</th>\n",
       "      <td>[0.0, 0.0, 0.0, 1.0, 0.0, 0.0, 0.0, 0.0]</td>\n",
       "      <td>0</td>\n",
       "    </tr>\n",
       "    <tr>\n",
       "      <th>43</th>\n",
       "      <td>[0.0, 0.0, 0.0, 0.0, 0.0, 0.0, 0.0, 0.0]</td>\n",
       "      <td>0</td>\n",
       "    </tr>\n",
       "    <tr>\n",
       "      <th>44</th>\n",
       "      <td>[0.3333333333333333, 0.0, 0.0, 0.3333333333333...</td>\n",
       "      <td>0</td>\n",
       "    </tr>\n",
       "    <tr>\n",
       "      <th>45</th>\n",
       "      <td>[0.5, 0.25, 0.0, 0.25, 0.0, 0.0, 0.0, 0.0]</td>\n",
       "      <td>0</td>\n",
       "    </tr>\n",
       "    <tr>\n",
       "      <th>46</th>\n",
       "      <td>[0.0, 0.0, 0.0, 0.0, 0.0, 0.0, 0.0, 0.0]</td>\n",
       "      <td>0</td>\n",
       "    </tr>\n",
       "    <tr>\n",
       "      <th>47</th>\n",
       "      <td>[1.0, 0.0, 0.0, 0.0, 0.0, 0.0, 0.0, 0.0]</td>\n",
       "      <td>0</td>\n",
       "    </tr>\n",
       "    <tr>\n",
       "      <th>48</th>\n",
       "      <td>[0.0, 0.0, 0.0, 0.0, 0.0, 0.0, 0.0, 0.0]</td>\n",
       "      <td>0</td>\n",
       "    </tr>\n",
       "    <tr>\n",
       "      <th>49</th>\n",
       "      <td>[0.0, 0.0, 0.0, 0.0, 0.0, 0.0, 0.0, 0.0]</td>\n",
       "      <td>0</td>\n",
       "    </tr>\n",
       "  </tbody>\n",
       "</table>\n",
       "</div>"
      ],
      "text/plain": [
       "                                                  pos  target\n",
       "0            [0.0, 0.0, 0.0, 0.0, 0.0, 1.0, 0.0, 0.0]       1\n",
       "1            [0.0, 0.0, 0.0, 0.0, 0.0, 0.0, 0.0, 0.0]       1\n",
       "2            [0.0, 0.0, 0.0, 1.0, 0.0, 0.0, 0.0, 0.0]       0\n",
       "3            [0.0, 0.0, 0.0, 1.0, 0.0, 0.0, 0.0, 0.0]       0\n",
       "4            [0.0, 0.0, 0.0, 1.0, 0.0, 0.0, 0.0, 0.0]       1\n",
       "5            [1.0, 0.0, 0.0, 0.0, 0.0, 0.0, 0.0, 0.0]       0\n",
       "6            [0.0, 0.0, 0.0, 0.0, 0.0, 0.0, 0.0, 0.0]       0\n",
       "7          [0.0, 0.0, 0.0, 0.25, 0.0, 0.75, 0.0, 0.0]       1\n",
       "8   [0.14285714285714285, 0.0, 0.0, 0.285714285714...       1\n",
       "9            [0.0, 0.0, 0.0, 0.0, 0.0, 1.0, 0.0, 0.0]       0\n",
       "10           [0.0, 0.0, 0.0, 0.5, 0.0, 0.5, 0.0, 0.0]       1\n",
       "11           [0.0, 0.0, 0.0, 0.0, 0.0, 0.0, 0.0, 0.0]       0\n",
       "12           [0.0, 0.0, 0.0, 1.0, 0.0, 0.0, 0.0, 0.0]       1\n",
       "13           [0.0, 0.0, 0.0, 0.0, 0.0, 1.0, 0.0, 0.0]       0\n",
       "14  [0.3333333333333333, 0.0, 0.0, 0.3333333333333...       0\n",
       "15           [0.0, 0.0, 0.0, 0.0, 0.0, 1.0, 0.0, 0.0]       1\n",
       "16           [0.0, 0.0, 0.0, 0.0, 0.0, 1.0, 0.0, 0.0]       1\n",
       "17  [0.0, 0.0, 0.0, 0.6666666666666666, 0.0, 0.333...       1\n",
       "18           [0.5, 0.0, 0.0, 0.0, 0.0, 0.5, 0.0, 0.0]       1\n",
       "19           [0.0, 0.0, 0.0, 0.5, 0.0, 0.5, 0.0, 0.0]       1\n",
       "20           [0.0, 0.0, 0.0, 0.0, 0.0, 1.0, 0.0, 0.0]       0\n",
       "21           [0.5, 0.0, 0.0, 0.5, 0.0, 0.0, 0.0, 0.0]       1\n",
       "22           [0.0, 0.0, 0.0, 0.0, 0.0, 1.0, 0.0, 0.0]       0\n",
       "23           [0.4, 0.0, 0.0, 0.2, 0.0, 0.4, 0.0, 0.0]       0\n",
       "24           [0.0, 0.0, 0.0, 1.0, 0.0, 0.0, 0.0, 0.0]       1\n",
       "25           [0.0, 0.0, 0.0, 0.0, 0.0, 1.0, 0.0, 0.0]       1\n",
       "26           [0.0, 0.0, 0.0, 0.0, 0.0, 0.0, 0.0, 0.0]       0\n",
       "27           [0.0, 0.0, 0.0, 0.0, 0.0, 0.0, 0.0, 0.0]       0\n",
       "28           [0.0, 0.0, 0.0, 0.0, 0.0, 1.0, 0.0, 0.0]       1\n",
       "29           [0.0, 0.0, 0.0, 0.0, 0.0, 0.0, 0.0, 0.0]       1\n",
       "30           [0.0, 0.0, 0.0, 0.0, 0.0, 0.0, 0.0, 0.0]       1\n",
       "31           [0.0, 0.0, 0.0, 1.0, 0.0, 0.0, 0.0, 0.0]       1\n",
       "32           [1.0, 0.0, 0.0, 0.0, 0.0, 0.0, 0.0, 0.0]       1\n",
       "33           [0.0, 0.0, 0.0, 0.0, 0.0, 0.0, 0.0, 0.0]       1\n",
       "34           [0.0, 0.0, 0.0, 0.0, 0.0, 0.0, 0.0, 0.0]       0\n",
       "35           [0.0, 0.0, 0.0, 1.0, 0.0, 0.0, 0.0, 0.0]       0\n",
       "36           [0.0, 0.0, 0.0, 0.0, 0.0, 1.0, 0.0, 0.0]       1\n",
       "37           [0.0, 0.0, 0.0, 1.0, 0.0, 0.0, 0.0, 0.0]       0\n",
       "38           [0.0, 0.0, 0.0, 0.5, 0.0, 0.5, 0.0, 0.0]       0\n",
       "39           [0.0, 0.0, 0.0, 1.0, 0.0, 0.0, 0.0, 0.0]       1\n",
       "40           [0.0, 0.0, 0.0, 0.0, 0.0, 0.0, 0.0, 0.0]       0\n",
       "41           [0.0, 0.0, 0.0, 0.0, 0.0, 0.0, 0.0, 0.0]       0\n",
       "42           [0.0, 0.0, 0.0, 1.0, 0.0, 0.0, 0.0, 0.0]       0\n",
       "43           [0.0, 0.0, 0.0, 0.0, 0.0, 0.0, 0.0, 0.0]       0\n",
       "44  [0.3333333333333333, 0.0, 0.0, 0.3333333333333...       0\n",
       "45         [0.5, 0.25, 0.0, 0.25, 0.0, 0.0, 0.0, 0.0]       0\n",
       "46           [0.0, 0.0, 0.0, 0.0, 0.0, 0.0, 0.0, 0.0]       0\n",
       "47           [1.0, 0.0, 0.0, 0.0, 0.0, 0.0, 0.0, 0.0]       0\n",
       "48           [0.0, 0.0, 0.0, 0.0, 0.0, 0.0, 0.0, 0.0]       0\n",
       "49           [0.0, 0.0, 0.0, 0.0, 0.0, 0.0, 0.0, 0.0]       0"
      ]
     },
     "execution_count": 20,
     "metadata": {},
     "output_type": "execute_result"
    }
   ],
   "source": [
    "train_df.head(50)"
   ]
  },
  {
   "cell_type": "code",
   "execution_count": 21,
   "metadata": {},
   "outputs": [],
   "source": [
    "SEED = 42\n",
    "\n",
    "torch.manual_seed(SEED)\n",
    "torch.backends.cudnn.deterministic = True\n",
    "torch.backends.cudnn.benchmark = False"
   ]
  },
  {
   "cell_type": "code",
   "execution_count": 22,
   "metadata": {},
   "outputs": [
    {
     "name": "stdout",
     "output_type": "stream",
     "text": [
      "120306\n",
      "30077\n"
     ]
    }
   ],
   "source": [
    "print(len(train_df))\n",
    "print(len(test_df))"
   ]
  },
  {
   "cell_type": "code",
   "execution_count": 23,
   "metadata": {},
   "outputs": [],
   "source": [
    "train_x = train_df['pos'].to_numpy()\n",
    "train_x = np.stack(train_x)\n",
    "train_x_shape = train_x.shape\n",
    "#train_x = train_x.reshape((1, train_x_shape[0], train_x_shape[1]))\n",
    "#train_x.reshape(train_x_shape[0], train_x_shape[1], 1)\n",
    "train_x = train_x.astype('int64')\n",
    "train_x = torch.Tensor(train_x)\n",
    "train_x.type(torch.cuda.LongTensor)\n",
    "train_x = train_x.unsqueeze(dim=2)\n",
    "train_x = train_x.float()\n",
    "train_x = train_x.cuda()\n",
    "\n",
    "train_y = train_df['target'].to_numpy()\n",
    "train_y = np.stack(train_y)\n",
    "train_y_shape = train_y.shape\n",
    "#train_y.reshape(1, train_y_shape[0], train_y_shape[1])\n",
    "train_y = train_y.astype('int64')\n",
    "train_y = torch.Tensor(train_y)\n",
    "train_y.type(torch.cuda.LongTensor)\n",
    "train_y = train_y.long()\n",
    "train_y = train_y.cuda()\n",
    "\n",
    "test_x = test_df['pos'].to_numpy()\n",
    "test_x = np.stack(test_x)\n",
    "test_x_shape = test_x.shape\n",
    "#test_x = test_x.reshape((1, test_x_shape[0], test_x_shape[1]))\n",
    "#test_x.reshape(test_x_shape[0], test_x_shape[1], 1)\n",
    "test_x = test_x.astype('int64')\n",
    "test_x = torch.Tensor(test_x)\n",
    "test_x.type(torch.cuda.LongTensor)\n",
    "test_x = test_x.unsqueeze(dim=2)\n",
    "test_x = test_x.float()\n",
    "test_x = test_x.cuda()\n",
    "\n",
    "test_y = test_df['target'].to_numpy()\n",
    "test_y = np.stack(test_y)\n",
    "test_y_shape = test_y.shape\n",
    "#test_y.reshape(1, test_y_shape[0], test_y_shape[1])\n",
    "test_y = test_y.astype('int64')\n",
    "test_y = torch.Tensor(test_y)\n",
    "test_y = test_y.long()\n",
    "test_y = test_y.cuda()"
   ]
  },
  {
   "cell_type": "code",
   "execution_count": 24,
   "metadata": {},
   "outputs": [
    {
     "name": "stdout",
     "output_type": "stream",
     "text": [
      "torch.cuda.FloatTensor\n",
      "torch.cuda.LongTensor\n"
     ]
    }
   ],
   "source": [
    "print(train_x.type())\n",
    "print(train_y.type())"
   ]
  },
  {
   "cell_type": "code",
   "execution_count": 25,
   "metadata": {},
   "outputs": [
    {
     "name": "stdout",
     "output_type": "stream",
     "text": [
      "tensor([[[0.],\n",
      "         [0.],\n",
      "         [0.],\n",
      "         ...,\n",
      "         [1.],\n",
      "         [0.],\n",
      "         [0.]],\n",
      "\n",
      "        [[0.],\n",
      "         [0.],\n",
      "         [0.],\n",
      "         ...,\n",
      "         [0.],\n",
      "         [0.],\n",
      "         [0.]],\n",
      "\n",
      "        [[0.],\n",
      "         [0.],\n",
      "         [0.],\n",
      "         ...,\n",
      "         [0.],\n",
      "         [0.],\n",
      "         [0.]],\n",
      "\n",
      "        ...,\n",
      "\n",
      "        [[1.],\n",
      "         [0.],\n",
      "         [0.],\n",
      "         ...,\n",
      "         [0.],\n",
      "         [0.],\n",
      "         [0.]],\n",
      "\n",
      "        [[0.],\n",
      "         [0.],\n",
      "         [0.],\n",
      "         ...,\n",
      "         [0.],\n",
      "         [0.],\n",
      "         [0.]],\n",
      "\n",
      "        [[0.],\n",
      "         [0.],\n",
      "         [0.],\n",
      "         ...,\n",
      "         [0.],\n",
      "         [0.],\n",
      "         [0.]]], device='cuda:0')\n"
     ]
    }
   ],
   "source": [
    "print(train_x)"
   ]
  },
  {
   "cell_type": "code",
   "execution_count": 26,
   "metadata": {},
   "outputs": [
    {
     "name": "stdout",
     "output_type": "stream",
     "text": [
      "torch.Size([120306, 8, 1])\n",
      "torch.Size([120306])\n"
     ]
    }
   ],
   "source": [
    "print(train_x.shape)\n",
    "print(train_y.shape)"
   ]
  },
  {
   "cell_type": "code",
   "execution_count": 27,
   "metadata": {},
   "outputs": [
    {
     "name": "stdout",
     "output_type": "stream",
     "text": [
      "torch.Size([30077, 8, 1])\n",
      "torch.Size([30077])\n"
     ]
    }
   ],
   "source": [
    "print(test_x.shape)\n",
    "print(test_y.shape)"
   ]
  },
  {
   "cell_type": "code",
   "execution_count": 28,
   "metadata": {},
   "outputs": [],
   "source": [
    "train = torch.utils.data.TensorDataset(train_x, train_y)\n",
    "train_dataset = torch.utils.data.DataLoader(train, batch_size = 200, shuffle = True)\n",
    "\n",
    "test = torch.utils.data.TensorDataset(test_x, test_y)\n",
    "test_dataset = torch.utils.data.DataLoader(test, batch_size = 200, shuffle = False)"
   ]
  },
  {
   "cell_type": "code",
   "execution_count": 29,
   "metadata": {},
   "outputs": [
    {
     "name": "stdout",
     "output_type": "stream",
     "text": [
      "<torch.utils.data.dataloader.DataLoader object at 0x00000197C61E5F48>\n",
      "<torch.utils.data.dataloader.DataLoader object at 0x00000197C61E5048>\n",
      "120306\n"
     ]
    }
   ],
   "source": [
    "print(train_dataset)\n",
    "print(test_dataset)\n",
    "print(len(train_dataset.dataset))"
   ]
  },
  {
   "cell_type": "code",
   "execution_count": 30,
   "metadata": {},
   "outputs": [],
   "source": [
    "batch_size = 200\n",
    "n_iters = 3000\n",
    "num_epochs = n_iters / (len(train_dataset) / batch_size)\n",
    "num_epochs = int(num_epochs)"
   ]
  },
  {
   "cell_type": "code",
   "execution_count": 31,
   "metadata": {},
   "outputs": [
    {
     "name": "stdout",
     "output_type": "stream",
     "text": [
      "996\n"
     ]
    }
   ],
   "source": [
    "print(num_epochs)"
   ]
  },
  {
   "cell_type": "code",
   "execution_count": 32,
   "metadata": {},
   "outputs": [],
   "source": [
    "class LSTMModel(nn.Module):\n",
    "    def __init__(self, input_dim, hidden_dim, layer_dim, output_dim):\n",
    "        super(LSTMModel, self).__init__()\n",
    "    \n",
    "        self.hidden_dim = hidden_dim\n",
    "\n",
    "        self.layer_dim = layer_dim\n",
    "\n",
    "        self.lstm = nn.LSTM(input_dim, hidden_dim, layer_dim, batch_first=True).to(device)\n",
    "\n",
    "        self.fc = nn.Linear(hidden_dim, output_dim).to(device)\n",
    "\n",
    "    def forward(self, x):\n",
    "        h0 = torch.zeros(self.layer_dim, x.size(0), self.hidden_dim).requires_grad_().to(device)\n",
    "\n",
    "        c0 = torch.zeros(self.layer_dim, x.size(0), self.hidden_dim).requires_grad_().to(device)\n",
    "\n",
    "        out, (hn, cn) = self.lstm(x, (h0.detach(), c0.detach()))\n",
    " \n",
    "        out = self.fc(out[:, -1, :]) \n",
    "        return out"
   ]
  },
  {
   "cell_type": "code",
   "execution_count": 33,
   "metadata": {},
   "outputs": [],
   "source": [
    "input_dim = 1\n",
    "hidden_dim = 10\n",
    "layer_dim = 1\n",
    "output_dim = 2"
   ]
  },
  {
   "cell_type": "code",
   "execution_count": 34,
   "metadata": {},
   "outputs": [
    {
     "data": {
      "text/plain": [
       "LSTMModel(\n",
       "  (lstm): LSTM(1, 10, batch_first=True)\n",
       "  (fc): Linear(in_features=10, out_features=2, bias=True)\n",
       ")"
      ]
     },
     "execution_count": 34,
     "metadata": {},
     "output_type": "execute_result"
    }
   ],
   "source": [
    "model = LSTMModel(input_dim, hidden_dim, layer_dim, output_dim)\n",
    "model.cuda()"
   ]
  },
  {
   "cell_type": "code",
   "execution_count": 35,
   "metadata": {},
   "outputs": [],
   "source": [
    "criterion = nn.CrossEntropyLoss().cuda()"
   ]
  },
  {
   "cell_type": "code",
   "execution_count": 36,
   "metadata": {},
   "outputs": [],
   "source": [
    "learning_rate = 0.01\n",
    "\n",
    "optimizer = torch.optim.SGD(model.parameters(), lr=learning_rate)"
   ]
  },
  {
   "cell_type": "code",
   "execution_count": 37,
   "metadata": {},
   "outputs": [
    {
     "data": {
      "text/plain": [
       "6"
      ]
     },
     "execution_count": 37,
     "metadata": {},
     "output_type": "execute_result"
    }
   ],
   "source": [
    "len(list(model.parameters()))"
   ]
  },
  {
   "cell_type": "code",
   "execution_count": 38,
   "metadata": {},
   "outputs": [
    {
     "name": "stdout",
     "output_type": "stream",
     "text": [
      "torch.Size([40, 1])\n",
      "torch.Size([40, 10])\n",
      "torch.Size([40])\n",
      "torch.Size([40])\n",
      "torch.Size([2, 10])\n",
      "torch.Size([2])\n"
     ]
    }
   ],
   "source": [
    "for i in range(len(list(model.parameters()))):\n",
    "    print(list(model.parameters())[i].size())"
   ]
  },
  {
   "cell_type": "code",
   "execution_count": 39,
   "metadata": {},
   "outputs": [
    {
     "name": "stderr",
     "output_type": "stream",
     "text": [
      "..\\aten\\src\\ATen\\native\\BinaryOps.cpp:81: UserWarning: Integer division of tensors using div or / is deprecated, and in a future release div will perform true division as in Python 3. Use true_divide or floor_divide (// in Python) instead.\n"
     ]
    },
    {
     "name": "stdout",
     "output_type": "stream",
     "text": [
      "Iteration: 500. Loss: 0.6953268647193909. Accuracy: 50\n",
      "Iteration: 1000. Loss: 0.6922966837882996. Accuracy: 50\n",
      "Iteration: 1500. Loss: 0.6935392618179321. Accuracy: 50\n",
      "Iteration: 2000. Loss: 0.6929185390472412. Accuracy: 50\n",
      "Iteration: 2500. Loss: 0.6928783655166626. Accuracy: 50\n",
      "Iteration: 3000. Loss: 0.6939647197723389. Accuracy: 50\n",
      "Iteration: 3500. Loss: 0.6938615441322327. Accuracy: 50\n",
      "Iteration: 4000. Loss: 0.6934925317764282. Accuracy: 50\n",
      "Iteration: 4500. Loss: 0.6957478523254395. Accuracy: 50\n",
      "Iteration: 5000. Loss: 0.6931054592132568. Accuracy: 50\n",
      "Iteration: 5500. Loss: 0.6921339631080627. Accuracy: 50\n",
      "Iteration: 6000. Loss: 0.6917015314102173. Accuracy: 50\n",
      "Iteration: 6500. Loss: 0.6938381195068359. Accuracy: 50\n",
      "Iteration: 7000. Loss: 0.6945538520812988. Accuracy: 50\n"
     ]
    },
    {
     "ename": "KeyboardInterrupt",
     "evalue": "",
     "output_type": "error",
     "traceback": [
      "\u001b[1;31m---------------------------------------------------------------------------\u001b[0m",
      "\u001b[1;31mKeyboardInterrupt\u001b[0m                         Traceback (most recent call last)",
      "\u001b[1;32m<ipython-input-39-dfe4fec8de67>\u001b[0m in \u001b[0;36m<module>\u001b[1;34m\u001b[0m\n\u001b[0;32m     25\u001b[0m \u001b[1;33m\u001b[0m\u001b[0m\n\u001b[0;32m     26\u001b[0m         \u001b[1;31m# Getting gradients w.r.t. parameters\u001b[0m\u001b[1;33m\u001b[0m\u001b[1;33m\u001b[0m\u001b[1;33m\u001b[0m\u001b[0m\n\u001b[1;32m---> 27\u001b[1;33m         \u001b[0mloss\u001b[0m\u001b[1;33m.\u001b[0m\u001b[0mbackward\u001b[0m\u001b[1;33m(\u001b[0m\u001b[1;33m)\u001b[0m\u001b[1;33m\u001b[0m\u001b[1;33m\u001b[0m\u001b[0m\n\u001b[0m\u001b[0;32m     28\u001b[0m \u001b[1;33m\u001b[0m\u001b[0m\n\u001b[0;32m     29\u001b[0m         \u001b[1;31m# Updating parameters\u001b[0m\u001b[1;33m\u001b[0m\u001b[1;33m\u001b[0m\u001b[1;33m\u001b[0m\u001b[0m\n",
      "\u001b[1;32m~\\anaconda3\\envs\\torch\\lib\\site-packages\\torch\\tensor.py\u001b[0m in \u001b[0;36mbackward\u001b[1;34m(self, gradient, retain_graph, create_graph)\u001b[0m\n\u001b[0;32m    196\u001b[0m                 \u001b[0mproducts\u001b[0m\u001b[1;33m.\u001b[0m \u001b[0mDefaults\u001b[0m \u001b[0mto\u001b[0m\u001b[0;31m \u001b[0m\u001b[0;31m`\u001b[0m\u001b[0;31m`\u001b[0m\u001b[1;32mFalse\u001b[0m\u001b[0;31m`\u001b[0m\u001b[0;31m`\u001b[0m\u001b[1;33m.\u001b[0m\u001b[1;33m\u001b[0m\u001b[1;33m\u001b[0m\u001b[0m\n\u001b[0;32m    197\u001b[0m         \"\"\"\n\u001b[1;32m--> 198\u001b[1;33m         \u001b[0mtorch\u001b[0m\u001b[1;33m.\u001b[0m\u001b[0mautograd\u001b[0m\u001b[1;33m.\u001b[0m\u001b[0mbackward\u001b[0m\u001b[1;33m(\u001b[0m\u001b[0mself\u001b[0m\u001b[1;33m,\u001b[0m \u001b[0mgradient\u001b[0m\u001b[1;33m,\u001b[0m \u001b[0mretain_graph\u001b[0m\u001b[1;33m,\u001b[0m \u001b[0mcreate_graph\u001b[0m\u001b[1;33m)\u001b[0m\u001b[1;33m\u001b[0m\u001b[1;33m\u001b[0m\u001b[0m\n\u001b[0m\u001b[0;32m    199\u001b[0m \u001b[1;33m\u001b[0m\u001b[0m\n\u001b[0;32m    200\u001b[0m     \u001b[1;32mdef\u001b[0m \u001b[0mregister_hook\u001b[0m\u001b[1;33m(\u001b[0m\u001b[0mself\u001b[0m\u001b[1;33m,\u001b[0m \u001b[0mhook\u001b[0m\u001b[1;33m)\u001b[0m\u001b[1;33m:\u001b[0m\u001b[1;33m\u001b[0m\u001b[1;33m\u001b[0m\u001b[0m\n",
      "\u001b[1;32m~\\anaconda3\\envs\\torch\\lib\\site-packages\\torch\\autograd\\__init__.py\u001b[0m in \u001b[0;36mbackward\u001b[1;34m(tensors, grad_tensors, retain_graph, create_graph, grad_variables)\u001b[0m\n\u001b[0;32m     98\u001b[0m     Variable._execution_engine.run_backward(\n\u001b[0;32m     99\u001b[0m         \u001b[0mtensors\u001b[0m\u001b[1;33m,\u001b[0m \u001b[0mgrad_tensors\u001b[0m\u001b[1;33m,\u001b[0m \u001b[0mretain_graph\u001b[0m\u001b[1;33m,\u001b[0m \u001b[0mcreate_graph\u001b[0m\u001b[1;33m,\u001b[0m\u001b[1;33m\u001b[0m\u001b[1;33m\u001b[0m\u001b[0m\n\u001b[1;32m--> 100\u001b[1;33m         allow_unreachable=True)  # allow_unreachable flag\n\u001b[0m\u001b[0;32m    101\u001b[0m \u001b[1;33m\u001b[0m\u001b[0m\n\u001b[0;32m    102\u001b[0m \u001b[1;33m\u001b[0m\u001b[0m\n",
      "\u001b[1;31mKeyboardInterrupt\u001b[0m: "
     ]
    }
   ],
   "source": [
    "# Number of steps to unroll\n",
    "seq_dim = 1\n",
    "\n",
    "iter = 0\n",
    "for epoch in range(num_epochs):\n",
    "    for i, (vectors, labels) in enumerate(train_dataset):\n",
    "        vectors = vectors.requires_grad_()\n",
    "        vectors = vectors.cuda()\n",
    "        # Clear gradients w.r.t. parameters\n",
    "        optimizer.zero_grad()\n",
    "\n",
    "        # Forward pass to get output/logits\n",
    "        # outputs.size() --> 100, 10\n",
    "        \n",
    "        outputs = model(vectors)\n",
    "        outputs = outputs.to(device = device)\n",
    "        outputs = outputs.cuda()\n",
    "        \n",
    "        \n",
    "        labels = labels.cuda()\n",
    "        labels = labels.to(device = device)\n",
    "        \n",
    "        # Calculate Loss: softmax --> cross entropy loss\n",
    "        loss = criterion(outputs, labels).cuda()\n",
    "\n",
    "        # Getting gradients w.r.t. parameters\n",
    "        loss.backward()\n",
    "\n",
    "        # Updating parameters\n",
    "        optimizer.step()\n",
    "\n",
    "        iter += 1\n",
    "\n",
    "        if iter % 500 == 0:\n",
    "            # Calculate Accuracy         \n",
    "            correct = 0\n",
    "            total = 0\n",
    "            # Iterate through test dataset\n",
    "            for i, (vectors, labels) in enumerate(test_dataset):\n",
    "                # Forward pass only to get logits/output\n",
    "                outputs = model(vectors)\n",
    "                outputs = outputs.to(device = device)\n",
    "                outputs = outputs.cuda()\n",
    "\n",
    "                # Get predictions from the maximum value\n",
    "                _, predicted = torch.max(outputs.data, 1)\n",
    "\n",
    "                # Total number of labels\n",
    "                total += labels.size(0)\n",
    "\n",
    "                # Total correct predictions\n",
    "                correct += (predicted == labels).sum()\n",
    "\n",
    "            accuracy = 100 * correct / total\n",
    "\n",
    "            # Print Loss\n",
    "            print('Iteration: {}. Loss: {}. Accuracy: {}'.format(iter, loss.item(), accuracy))"
   ]
  },
  {
   "cell_type": "code",
   "execution_count": null,
   "metadata": {},
   "outputs": [],
   "source": []
  }
 ],
 "metadata": {
  "kernelspec": {
   "display_name": "Python 3",
   "language": "python",
   "name": "python3"
  },
  "language_info": {
   "codemirror_mode": {
    "name": "ipython",
    "version": 3
   },
   "file_extension": ".py",
   "mimetype": "text/x-python",
   "name": "python",
   "nbconvert_exporter": "python",
   "pygments_lexer": "ipython3",
   "version": "3.7.7"
  }
 },
 "nbformat": 4,
 "nbformat_minor": 4
}
